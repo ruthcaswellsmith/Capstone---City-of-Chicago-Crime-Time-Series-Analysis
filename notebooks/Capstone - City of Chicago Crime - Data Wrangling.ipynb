{
 "cells": [
  {
   "cell_type": "markdown",
   "metadata": {},
   "source": [
    "#### Source of data\n",
    "[City of of Chicago](https://catalog.data.gov/dataset/crimes-2001-to-present-398a4)\n",
    "\n",
    "[API Documentation](https://dev.socrata.com/foundry/data.cityofchicago.org/ta3m-92yk)\n",
    "\n",
    "[IUCR Crime codes](https://data.cityofchicago.org/widgets/c7ck-438e)"
   ]
  },
  {
   "cell_type": "code",
   "execution_count": 1,
   "metadata": {},
   "outputs": [],
   "source": [
    "import pandas as pd"
   ]
  },
  {
   "cell_type": "code",
   "execution_count": 2,
   "metadata": {},
   "outputs": [],
   "source": [
    "# read in data\n",
    "df = pd.read_csv(\"../data/Crimes_-_2001_to_Present.csv\", header=0)"
   ]
  },
  {
   "cell_type": "code",
   "execution_count": 3,
   "metadata": {},
   "outputs": [
    {
     "data": {
      "text/plain": [
       "Index(['ID', 'Case Number', 'Date', 'Block', 'IUCR', 'Primary Type',\n",
       "       'Description', 'Location Description', 'Arrest', 'Domestic', 'Beat',\n",
       "       'District', 'Ward', 'Community Area', 'FBI Code', 'X Coordinate',\n",
       "       'Y Coordinate', 'Year', 'Updated On', 'Latitude', 'Longitude',\n",
       "       'Location'],\n",
       "      dtype='object')"
      ]
     },
     "execution_count": 3,
     "metadata": {},
     "output_type": "execute_result"
    }
   ],
   "source": [
    "df.columns"
   ]
  },
  {
   "cell_type": "markdown",
   "metadata": {},
   "source": [
    "Columns are:\n",
    "- ID - unique identifier\n",
    "- Case Number - Chicago Police unique case number\n",
    "- Date - timestamp of crime\n",
    "- Block - partially redacted address\n",
    "- IUCR - crime code\n",
    "- Primary Type - description of crime code\n",
    "- Description - secondary description of crime code\n",
    "- Location Description - i.e. STREET - need to see what values there are\n",
    "- Arrest - binary, whether or not an arrest was made\n",
    "- Domestic - binary, whether or not this is domestic crime\n",
    "- Beat - 3-5 beats make up a sector, and 3 sectors make up a district of which there are 22\n",
    "- Ward\n",
    "- Community Area\n",
    "- FBI Code\n",
    "- X Coordinate - The x coordinate of the location where the incident occurred in State Plane Illinois East NAD 1983 projection\n",
    "- Y Coordinate\n",
    "- Year - year crime occcurred\n",
    "- Updated On - last time record was updated\n",
    "- Latitude\n",
    "- Longitude\n",
    "- Location"
   ]
  },
  {
   "cell_type": "code",
   "execution_count": 4,
   "metadata": {},
   "outputs": [
    {
     "data": {
      "text/plain": [
       "(7255968, 22)"
      ]
     },
     "execution_count": 4,
     "metadata": {},
     "output_type": "execute_result"
    }
   ],
   "source": [
    "df.shape"
   ]
  },
  {
   "cell_type": "code",
   "execution_count": 5,
   "metadata": {},
   "outputs": [
    {
     "data": {
      "text/html": [
       "<div>\n",
       "<style scoped>\n",
       "    .dataframe tbody tr th:only-of-type {\n",
       "        vertical-align: middle;\n",
       "    }\n",
       "\n",
       "    .dataframe tbody tr th {\n",
       "        vertical-align: top;\n",
       "    }\n",
       "\n",
       "    .dataframe thead th {\n",
       "        text-align: right;\n",
       "    }\n",
       "</style>\n",
       "<table border=\"1\" class=\"dataframe\">\n",
       "  <thead>\n",
       "    <tr style=\"text-align: right;\">\n",
       "      <th></th>\n",
       "      <th>ID</th>\n",
       "      <th>Case Number</th>\n",
       "      <th>Date</th>\n",
       "      <th>Block</th>\n",
       "      <th>IUCR</th>\n",
       "      <th>Primary Type</th>\n",
       "      <th>Description</th>\n",
       "      <th>Location Description</th>\n",
       "      <th>Arrest</th>\n",
       "      <th>Domestic</th>\n",
       "      <th>...</th>\n",
       "      <th>Ward</th>\n",
       "      <th>Community Area</th>\n",
       "      <th>FBI Code</th>\n",
       "      <th>X Coordinate</th>\n",
       "      <th>Y Coordinate</th>\n",
       "      <th>Year</th>\n",
       "      <th>Updated On</th>\n",
       "      <th>Latitude</th>\n",
       "      <th>Longitude</th>\n",
       "      <th>Location</th>\n",
       "    </tr>\n",
       "  </thead>\n",
       "  <tbody>\n",
       "    <tr>\n",
       "      <th>0</th>\n",
       "      <td>10224738</td>\n",
       "      <td>HY411648</td>\n",
       "      <td>09/05/2015 01:30:00 PM</td>\n",
       "      <td>043XX S WOOD ST</td>\n",
       "      <td>0486</td>\n",
       "      <td>BATTERY</td>\n",
       "      <td>DOMESTIC BATTERY SIMPLE</td>\n",
       "      <td>RESIDENCE</td>\n",
       "      <td>False</td>\n",
       "      <td>True</td>\n",
       "      <td>...</td>\n",
       "      <td>12.0</td>\n",
       "      <td>61.0</td>\n",
       "      <td>08B</td>\n",
       "      <td>1165074.0</td>\n",
       "      <td>1875917.0</td>\n",
       "      <td>2015</td>\n",
       "      <td>02/10/2018 03:50:01 PM</td>\n",
       "      <td>41.815117</td>\n",
       "      <td>-87.670000</td>\n",
       "      <td>(41.815117282, -87.669999562)</td>\n",
       "    </tr>\n",
       "    <tr>\n",
       "      <th>1</th>\n",
       "      <td>10224739</td>\n",
       "      <td>HY411615</td>\n",
       "      <td>09/04/2015 11:30:00 AM</td>\n",
       "      <td>008XX N CENTRAL AVE</td>\n",
       "      <td>0870</td>\n",
       "      <td>THEFT</td>\n",
       "      <td>POCKET-PICKING</td>\n",
       "      <td>CTA BUS</td>\n",
       "      <td>False</td>\n",
       "      <td>False</td>\n",
       "      <td>...</td>\n",
       "      <td>29.0</td>\n",
       "      <td>25.0</td>\n",
       "      <td>06</td>\n",
       "      <td>1138875.0</td>\n",
       "      <td>1904869.0</td>\n",
       "      <td>2015</td>\n",
       "      <td>02/10/2018 03:50:01 PM</td>\n",
       "      <td>41.895080</td>\n",
       "      <td>-87.765400</td>\n",
       "      <td>(41.895080471, -87.765400451)</td>\n",
       "    </tr>\n",
       "    <tr>\n",
       "      <th>2</th>\n",
       "      <td>11646166</td>\n",
       "      <td>JC213529</td>\n",
       "      <td>09/01/2018 12:01:00 AM</td>\n",
       "      <td>082XX S INGLESIDE AVE</td>\n",
       "      <td>0810</td>\n",
       "      <td>THEFT</td>\n",
       "      <td>OVER $500</td>\n",
       "      <td>RESIDENCE</td>\n",
       "      <td>False</td>\n",
       "      <td>True</td>\n",
       "      <td>...</td>\n",
       "      <td>8.0</td>\n",
       "      <td>44.0</td>\n",
       "      <td>06</td>\n",
       "      <td>NaN</td>\n",
       "      <td>NaN</td>\n",
       "      <td>2018</td>\n",
       "      <td>04/06/2019 04:04:43 PM</td>\n",
       "      <td>NaN</td>\n",
       "      <td>NaN</td>\n",
       "      <td>NaN</td>\n",
       "    </tr>\n",
       "    <tr>\n",
       "      <th>3</th>\n",
       "      <td>10224740</td>\n",
       "      <td>HY411595</td>\n",
       "      <td>09/05/2015 12:45:00 PM</td>\n",
       "      <td>035XX W BARRY AVE</td>\n",
       "      <td>2023</td>\n",
       "      <td>NARCOTICS</td>\n",
       "      <td>POSS: HEROIN(BRN/TAN)</td>\n",
       "      <td>SIDEWALK</td>\n",
       "      <td>True</td>\n",
       "      <td>False</td>\n",
       "      <td>...</td>\n",
       "      <td>35.0</td>\n",
       "      <td>21.0</td>\n",
       "      <td>18</td>\n",
       "      <td>1152037.0</td>\n",
       "      <td>1920384.0</td>\n",
       "      <td>2015</td>\n",
       "      <td>02/10/2018 03:50:01 PM</td>\n",
       "      <td>41.937406</td>\n",
       "      <td>-87.716650</td>\n",
       "      <td>(41.937405765, -87.716649687)</td>\n",
       "    </tr>\n",
       "    <tr>\n",
       "      <th>4</th>\n",
       "      <td>10224741</td>\n",
       "      <td>HY411610</td>\n",
       "      <td>09/05/2015 01:00:00 PM</td>\n",
       "      <td>0000X N LARAMIE AVE</td>\n",
       "      <td>0560</td>\n",
       "      <td>ASSAULT</td>\n",
       "      <td>SIMPLE</td>\n",
       "      <td>APARTMENT</td>\n",
       "      <td>False</td>\n",
       "      <td>True</td>\n",
       "      <td>...</td>\n",
       "      <td>28.0</td>\n",
       "      <td>25.0</td>\n",
       "      <td>08A</td>\n",
       "      <td>1141706.0</td>\n",
       "      <td>1900086.0</td>\n",
       "      <td>2015</td>\n",
       "      <td>02/10/2018 03:50:01 PM</td>\n",
       "      <td>41.881903</td>\n",
       "      <td>-87.755121</td>\n",
       "      <td>(41.881903443, -87.755121152)</td>\n",
       "    </tr>\n",
       "  </tbody>\n",
       "</table>\n",
       "<p>5 rows × 22 columns</p>\n",
       "</div>"
      ],
      "text/plain": [
       "         ID Case Number                    Date                  Block  IUCR  \\\n",
       "0  10224738    HY411648  09/05/2015 01:30:00 PM        043XX S WOOD ST  0486   \n",
       "1  10224739    HY411615  09/04/2015 11:30:00 AM    008XX N CENTRAL AVE  0870   \n",
       "2  11646166    JC213529  09/01/2018 12:01:00 AM  082XX S INGLESIDE AVE  0810   \n",
       "3  10224740    HY411595  09/05/2015 12:45:00 PM      035XX W BARRY AVE  2023   \n",
       "4  10224741    HY411610  09/05/2015 01:00:00 PM    0000X N LARAMIE AVE  0560   \n",
       "\n",
       "  Primary Type              Description Location Description  Arrest  \\\n",
       "0      BATTERY  DOMESTIC BATTERY SIMPLE            RESIDENCE   False   \n",
       "1        THEFT           POCKET-PICKING              CTA BUS   False   \n",
       "2        THEFT                OVER $500            RESIDENCE   False   \n",
       "3    NARCOTICS    POSS: HEROIN(BRN/TAN)             SIDEWALK    True   \n",
       "4      ASSAULT                   SIMPLE            APARTMENT   False   \n",
       "\n",
       "   Domestic  ...  Ward  Community Area  FBI Code  X Coordinate Y Coordinate  \\\n",
       "0      True  ...  12.0            61.0       08B     1165074.0    1875917.0   \n",
       "1     False  ...  29.0            25.0        06     1138875.0    1904869.0   \n",
       "2      True  ...   8.0            44.0        06           NaN          NaN   \n",
       "3     False  ...  35.0            21.0        18     1152037.0    1920384.0   \n",
       "4      True  ...  28.0            25.0       08A     1141706.0    1900086.0   \n",
       "\n",
       "   Year              Updated On   Latitude  Longitude  \\\n",
       "0  2015  02/10/2018 03:50:01 PM  41.815117 -87.670000   \n",
       "1  2015  02/10/2018 03:50:01 PM  41.895080 -87.765400   \n",
       "2  2018  04/06/2019 04:04:43 PM        NaN        NaN   \n",
       "3  2015  02/10/2018 03:50:01 PM  41.937406 -87.716650   \n",
       "4  2015  02/10/2018 03:50:01 PM  41.881903 -87.755121   \n",
       "\n",
       "                        Location  \n",
       "0  (41.815117282, -87.669999562)  \n",
       "1  (41.895080471, -87.765400451)  \n",
       "2                            NaN  \n",
       "3  (41.937405765, -87.716649687)  \n",
       "4  (41.881903443, -87.755121152)  \n",
       "\n",
       "[5 rows x 22 columns]"
      ]
     },
     "execution_count": 5,
     "metadata": {},
     "output_type": "execute_result"
    }
   ],
   "source": [
    "df.head()"
   ]
  },
  {
   "cell_type": "code",
   "execution_count": 6,
   "metadata": {},
   "outputs": [
    {
     "name": "stdout",
     "output_type": "stream",
     "text": [
      "<class 'pandas.core.frame.DataFrame'>\n",
      "RangeIndex: 7255968 entries, 0 to 7255967\n",
      "Data columns (total 22 columns):\n",
      " #   Column                Dtype  \n",
      "---  ------                -----  \n",
      " 0   ID                    int64  \n",
      " 1   Case Number           object \n",
      " 2   Date                  object \n",
      " 3   Block                 object \n",
      " 4   IUCR                  object \n",
      " 5   Primary Type          object \n",
      " 6   Description           object \n",
      " 7   Location Description  object \n",
      " 8   Arrest                bool   \n",
      " 9   Domestic              bool   \n",
      " 10  Beat                  int64  \n",
      " 11  District              float64\n",
      " 12  Ward                  float64\n",
      " 13  Community Area        float64\n",
      " 14  FBI Code              object \n",
      " 15  X Coordinate          float64\n",
      " 16  Y Coordinate          float64\n",
      " 17  Year                  int64  \n",
      " 18  Updated On            object \n",
      " 19  Latitude              float64\n",
      " 20  Longitude             float64\n",
      " 21  Location              object \n",
      "dtypes: bool(2), float64(7), int64(3), object(10)\n",
      "memory usage: 1.1+ GB\n"
     ]
    }
   ],
   "source": [
    "df.info()"
   ]
  },
  {
   "cell_type": "code",
   "execution_count": 7,
   "metadata": {},
   "outputs": [],
   "source": [
    "# Convert date to datetime object\n",
    "df['Date'] = pd.to_datetime(df['Date'])"
   ]
  },
  {
   "cell_type": "code",
   "execution_count": 8,
   "metadata": {},
   "outputs": [],
   "source": [
    "# Let's write out the columns we are really interested in to a csv file so we have less data to deal with\n",
    "df[['ID','Date','IUCR','Primary Type','Description','Arrest','Domestic','Latitude','Longitude']].to_csv('../data/Smaller Dataset with Datetime.csv')"
   ]
  },
  {
   "cell_type": "code",
   "execution_count": 9,
   "metadata": {},
   "outputs": [],
   "source": [
    "# Now let's clear memory from our first dataframe\n",
    "del df"
   ]
  },
  {
   "cell_type": "code",
   "execution_count": 10,
   "metadata": {},
   "outputs": [],
   "source": [
    "smaller_df = pd.read_csv('../data/Smaller Dataset with Datetime.csv')"
   ]
  },
  {
   "cell_type": "code",
   "execution_count": 11,
   "metadata": {},
   "outputs": [
    {
     "name": "stdout",
     "output_type": "stream",
     "text": [
      "<class 'pandas.core.frame.DataFrame'>\n",
      "RangeIndex: 7255968 entries, 0 to 7255967\n",
      "Data columns (total 10 columns):\n",
      " #   Column        Dtype  \n",
      "---  ------        -----  \n",
      " 0   Unnamed: 0    int64  \n",
      " 1   ID            int64  \n",
      " 2   Date          object \n",
      " 3   IUCR          object \n",
      " 4   Primary Type  object \n",
      " 5   Description   object \n",
      " 6   Arrest        bool   \n",
      " 7   Domestic      bool   \n",
      " 8   Latitude      float64\n",
      " 9   Longitude     float64\n",
      "dtypes: bool(2), float64(2), int64(2), object(4)\n",
      "memory usage: 456.7+ MB\n"
     ]
    }
   ],
   "source": [
    "smaller_df.info()"
   ]
  },
  {
   "cell_type": "code",
   "execution_count": 12,
   "metadata": {},
   "outputs": [],
   "source": [
    "# Convert date to datetime object\n",
    "smaller_df['Date'] = pd.to_datetime(smaller_df['Date'])"
   ]
  },
  {
   "cell_type": "code",
   "execution_count": 13,
   "metadata": {},
   "outputs": [],
   "source": [
    "smaller_df.set_index('Date', inplace=True)"
   ]
  },
  {
   "cell_type": "code",
   "execution_count": 14,
   "metadata": {},
   "outputs": [],
   "source": [
    "smaller_df.drop(columns=['Unnamed: 0'],inplace=True)"
   ]
  },
  {
   "cell_type": "code",
   "execution_count": 15,
   "metadata": {},
   "outputs": [
    {
     "data": {
      "text/html": [
       "<div>\n",
       "<style scoped>\n",
       "    .dataframe tbody tr th:only-of-type {\n",
       "        vertical-align: middle;\n",
       "    }\n",
       "\n",
       "    .dataframe tbody tr th {\n",
       "        vertical-align: top;\n",
       "    }\n",
       "\n",
       "    .dataframe thead th {\n",
       "        text-align: right;\n",
       "    }\n",
       "</style>\n",
       "<table border=\"1\" class=\"dataframe\">\n",
       "  <thead>\n",
       "    <tr style=\"text-align: right;\">\n",
       "      <th></th>\n",
       "      <th>ID</th>\n",
       "      <th>IUCR</th>\n",
       "      <th>Primary Type</th>\n",
       "      <th>Description</th>\n",
       "      <th>Arrest</th>\n",
       "      <th>Domestic</th>\n",
       "      <th>Latitude</th>\n",
       "      <th>Longitude</th>\n",
       "    </tr>\n",
       "    <tr>\n",
       "      <th>Date</th>\n",
       "      <th></th>\n",
       "      <th></th>\n",
       "      <th></th>\n",
       "      <th></th>\n",
       "      <th></th>\n",
       "      <th></th>\n",
       "      <th></th>\n",
       "      <th></th>\n",
       "    </tr>\n",
       "  </thead>\n",
       "  <tbody>\n",
       "    <tr>\n",
       "      <th>2015-09-05 13:30:00</th>\n",
       "      <td>10224738</td>\n",
       "      <td>0486</td>\n",
       "      <td>BATTERY</td>\n",
       "      <td>DOMESTIC BATTERY SIMPLE</td>\n",
       "      <td>False</td>\n",
       "      <td>True</td>\n",
       "      <td>41.815117</td>\n",
       "      <td>-87.670000</td>\n",
       "    </tr>\n",
       "    <tr>\n",
       "      <th>2015-09-04 11:30:00</th>\n",
       "      <td>10224739</td>\n",
       "      <td>0870</td>\n",
       "      <td>THEFT</td>\n",
       "      <td>POCKET-PICKING</td>\n",
       "      <td>False</td>\n",
       "      <td>False</td>\n",
       "      <td>41.895080</td>\n",
       "      <td>-87.765400</td>\n",
       "    </tr>\n",
       "    <tr>\n",
       "      <th>2018-09-01 00:01:00</th>\n",
       "      <td>11646166</td>\n",
       "      <td>0810</td>\n",
       "      <td>THEFT</td>\n",
       "      <td>OVER $500</td>\n",
       "      <td>False</td>\n",
       "      <td>True</td>\n",
       "      <td>NaN</td>\n",
       "      <td>NaN</td>\n",
       "    </tr>\n",
       "    <tr>\n",
       "      <th>2015-09-05 12:45:00</th>\n",
       "      <td>10224740</td>\n",
       "      <td>2023</td>\n",
       "      <td>NARCOTICS</td>\n",
       "      <td>POSS: HEROIN(BRN/TAN)</td>\n",
       "      <td>True</td>\n",
       "      <td>False</td>\n",
       "      <td>41.937406</td>\n",
       "      <td>-87.716650</td>\n",
       "    </tr>\n",
       "    <tr>\n",
       "      <th>2015-09-05 13:00:00</th>\n",
       "      <td>10224741</td>\n",
       "      <td>0560</td>\n",
       "      <td>ASSAULT</td>\n",
       "      <td>SIMPLE</td>\n",
       "      <td>False</td>\n",
       "      <td>True</td>\n",
       "      <td>41.881903</td>\n",
       "      <td>-87.755121</td>\n",
       "    </tr>\n",
       "  </tbody>\n",
       "</table>\n",
       "</div>"
      ],
      "text/plain": [
       "                           ID  IUCR Primary Type              Description  \\\n",
       "Date                                                                        \n",
       "2015-09-05 13:30:00  10224738  0486      BATTERY  DOMESTIC BATTERY SIMPLE   \n",
       "2015-09-04 11:30:00  10224739  0870        THEFT           POCKET-PICKING   \n",
       "2018-09-01 00:01:00  11646166  0810        THEFT                OVER $500   \n",
       "2015-09-05 12:45:00  10224740  2023    NARCOTICS    POSS: HEROIN(BRN/TAN)   \n",
       "2015-09-05 13:00:00  10224741  0560      ASSAULT                   SIMPLE   \n",
       "\n",
       "                     Arrest  Domestic   Latitude  Longitude  \n",
       "Date                                                         \n",
       "2015-09-05 13:30:00   False      True  41.815117 -87.670000  \n",
       "2015-09-04 11:30:00   False     False  41.895080 -87.765400  \n",
       "2018-09-01 00:01:00   False      True        NaN        NaN  \n",
       "2015-09-05 12:45:00    True     False  41.937406 -87.716650  \n",
       "2015-09-05 13:00:00   False      True  41.881903 -87.755121  "
      ]
     },
     "execution_count": 15,
     "metadata": {},
     "output_type": "execute_result"
    }
   ],
   "source": [
    "smaller_df.head()"
   ]
  },
  {
   "cell_type": "code",
   "execution_count": 16,
   "metadata": {
    "scrolled": true
   },
   "outputs": [
    {
     "name": "stdout",
     "output_type": "stream",
     "text": [
      "<class 'pandas.core.frame.DataFrame'>\n",
      "DatetimeIndex: 7255968 entries, 2015-09-05 13:30:00 to 2020-12-27 12:13:00\n",
      "Data columns (total 8 columns):\n",
      " #   Column        Dtype  \n",
      "---  ------        -----  \n",
      " 0   ID            int64  \n",
      " 1   IUCR          object \n",
      " 2   Primary Type  object \n",
      " 3   Description   object \n",
      " 4   Arrest        bool   \n",
      " 5   Domestic      bool   \n",
      " 6   Latitude      float64\n",
      " 7   Longitude     float64\n",
      "dtypes: bool(2), float64(2), int64(1), object(3)\n",
      "memory usage: 401.4+ MB\n"
     ]
    }
   ],
   "source": [
    "smaller_df.info()"
   ]
  },
  {
   "cell_type": "code",
   "execution_count": 17,
   "metadata": {},
   "outputs": [
    {
     "data": {
      "text/plain": [
       "(402,)"
      ]
     },
     "execution_count": 17,
     "metadata": {},
     "output_type": "execute_result"
    }
   ],
   "source": [
    "smaller_df['IUCR'].unique().shape"
   ]
  },
  {
   "cell_type": "code",
   "execution_count": 18,
   "metadata": {},
   "outputs": [
    {
     "data": {
      "text/plain": [
       "974228"
      ]
     },
     "execution_count": 18,
     "metadata": {},
     "output_type": "execute_result"
    }
   ],
   "source": [
    "smaller_df['Domestic'].sum()"
   ]
  },
  {
   "cell_type": "code",
   "execution_count": 19,
   "metadata": {},
   "outputs": [
    {
     "data": {
      "text/plain": [
       "1970069"
      ]
     },
     "execution_count": 19,
     "metadata": {},
     "output_type": "execute_result"
    }
   ],
   "source": [
    "smaller_df['Arrest'].sum()"
   ]
  },
  {
   "cell_type": "code",
   "execution_count": 20,
   "metadata": {},
   "outputs": [
    {
     "data": {
      "text/plain": [
       "(295,)"
      ]
     },
     "execution_count": 20,
     "metadata": {},
     "output_type": "execute_result"
    }
   ],
   "source": [
    "smaller_df[smaller_df['Domestic']==True]['IUCR'].unique().shape"
   ]
  },
  {
   "cell_type": "code",
   "execution_count": 21,
   "metadata": {},
   "outputs": [],
   "source": [
    "# Let's write this data out to a CSV file\n",
    "smaller_df.to_csv('../data/Smaller Dataset - Data Wrangling.csv')"
   ]
  },
  {
   "cell_type": "code",
   "execution_count": 22,
   "metadata": {},
   "outputs": [
    {
     "data": {
      "text/plain": [
       "array(['0486', '0870', '0810', '2023', '0560', '0610', '0620', '0860',\n",
       "       '0320', '1153', '0820', '0460', '2820', '0497', '1320', '1310',\n",
       "       '031A', '0890', '0430', '2825', '5002', '4625', '1811', '141C',\n",
       "       '5111', '1460', '1122', '2014', '143B', '141A', '1330', '0910',\n",
       "       '2826', '1130', '2027', '0420', '0850', '2092', '2024', '1570',\n",
       "       '2017', '051A', '3710', '0880', '1751', '1753', '0313', '1822',\n",
       "       '2890', '2851', '0340', '502T', '1154', '1120', '2022', '143A',\n",
       "       '1156', '1150', '4387', '1305', '1110', '1365', '2028', '0470',\n",
       "       '1350', '0454', '041A', '0930', '1360', '0337', '1506', '0520',\n",
       "       '5011', '1661', '3730', '2093', '1710', '502R', '0461', '0453',\n",
       "       '0331', '1563', '0281', '3731', '0291', '0530', '1210', '1755',\n",
       "       '2230', '0550', '0266', '1340', '0498', '1754', '1821', '2025',\n",
       "       '1025', '4650', '3800', '5001', '1151', '1752', '4310', '1375',\n",
       "       '500N', '1345', '0630', '1725', '1121', '0580', '031B', '1790',\n",
       "       '502P', '2250', '0483', '2170', '1562', '1750', '0484', '1582',\n",
       "       '1780', '1651', '0650', '033A', '0265', '1812', '143C', '2026',\n",
       "       '0326', '0496', '1140', '4230', '1585', '1020', '141B', '1152',\n",
       "       '0261', '0915', '5110', '2900', '3100', '0330', '1090', '0495',\n",
       "       '0263', '4388', '1220', '0312', '2860', '2870', '1477', '1242',\n",
       "       '051B', '1206', '0545', '5007', '1265', '1200', '0865', '0554',\n",
       "       '1185', '1261', '0920', '1505', '3970', '2021', '5130', '5000',\n",
       "       '2012', '2031', '0479', '4651', '4255', '0917', '2020', '4510',\n",
       "       '1549', '2034', '0110', '1792', '1195', '2091', '4386', '0440',\n",
       "       '1544', '501A', '0271', '0553', '1205', '0485', '1478', '3960',\n",
       "       '1155', '2018', '0334', '2050', '0325', '2830', '1850', '2090',\n",
       "       '0552', '2210', '1720', '1479', '5114', '0489', '2850', '1513',\n",
       "       '1055', '0918', '2220', '1590', '1335', '2015', '1541', '1240',\n",
       "       '2013', '1512', '5003', '0584', '1680', '2011', '1050', '0925',\n",
       "       '1135', '1526', '2016', '3750', '1535', '5112', '1235', '0558',\n",
       "       '5004', '1565', '4652', '0935', '0557', '0275', '1537', '1480',\n",
       "       '5132', '041B', '033B', '1536', '1450', '2010', '1900', '0555',\n",
       "       '4210', '0264', '1540', '1370', '0583', '1515', '1670', '1566',\n",
       "       '0488', '0475', '3610', '5131', '2110', '3760', '2095', '0274',\n",
       "       '0462', '4389', '2160', '0581', '1564', '5093', '1791', '2029',\n",
       "       '2080', '1507', '0481', '0927', '0487', '2040', '1245', '1580',\n",
       "       '1170', '4220', '2840', '3300', '1030', '3975', '2033', '1581',\n",
       "       '0895', '4240', '1715', '5009', '2032', '0482', '500E', '0142',\n",
       "       '0937', '0273', '4860', '501H', '1255', '0556', '0480', '1525',\n",
       "       '3751', '0452', '0551', '0585', '1530', '142A', '5013', '0262',\n",
       "       '3966', '1241', '2070', '1840', '5073', '3910', '5121', '1035',\n",
       "       '1260', '4800', '2019', '0830', '0450', '2895', '3740', '1435',\n",
       "       '3000', '2060', '1520', '1230', '2240', '3720', '5094', '3920',\n",
       "       '0272', '1481', '5122', '1010', '3770', '1510', '5120', '3400',\n",
       "       '5113', '3961', '1160', '1682', '0938', '142B', '1476', '4740',\n",
       "       '2111', '2030', '3980', '2094', '0841', '0493', '1626', '1610',\n",
       "       '0840', '0492', '9901', '1627', '2251', '0842', '1611', '0490',\n",
       "       '1631', '1511', '1440', '1650', '0451', '1697', '0499', '5005',\n",
       "       '1630', '1574', '1622', '1621', '1681', '3200', '5008', '1572',\n",
       "       '1620', '1531', '4810', '0494', '1576', '0141', '0843', '1860',\n",
       "       '1633', '0510', '1578', '1625', '1640', '2120', '0928', '1521',\n",
       "       '4750', '1624'], dtype=object)"
      ]
     },
     "execution_count": 22,
     "metadata": {},
     "output_type": "execute_result"
    }
   ],
   "source": [
    "smaller_df['IUCR'].unique()"
   ]
  },
  {
   "cell_type": "code",
   "execution_count": 23,
   "metadata": {},
   "outputs": [
    {
     "data": {
      "text/plain": [
       "array(['BATTERY', 'THEFT', 'NARCOTICS', 'ASSAULT', 'BURGLARY', 'ROBBERY',\n",
       "       'DECEPTIVE PRACTICE', 'OTHER OFFENSE', 'CRIMINAL DAMAGE',\n",
       "       'WEAPONS VIOLATION', 'CRIMINAL TRESPASS', 'MOTOR VEHICLE THEFT',\n",
       "       'SEX OFFENSE', 'INTERFERENCE WITH PUBLIC OFFICER',\n",
       "       'OFFENSE INVOLVING CHILDREN', 'PUBLIC PEACE VIOLATION',\n",
       "       'PROSTITUTION', 'GAMBLING', 'CRIM SEXUAL ASSAULT',\n",
       "       'LIQUOR LAW VIOLATION', 'CRIMINAL SEXUAL ASSAULT', 'ARSON',\n",
       "       'STALKING', 'KIDNAPPING', 'INTIMIDATION', 'HOMICIDE',\n",
       "       'CONCEALED CARRY LICENSE VIOLATION', 'NON - CRIMINAL',\n",
       "       'HUMAN TRAFFICKING', 'OBSCENITY', 'PUBLIC INDECENCY',\n",
       "       'OTHER NARCOTIC VIOLATION', 'NON-CRIMINAL',\n",
       "       'NON-CRIMINAL (SUBJECT SPECIFIED)', 'RITUALISM',\n",
       "       'DOMESTIC VIOLENCE'], dtype=object)"
      ]
     },
     "execution_count": 23,
     "metadata": {},
     "output_type": "execute_result"
    }
   ],
   "source": [
    "smaller_df['Primary Type'].unique()"
   ]
  },
  {
   "cell_type": "code",
   "execution_count": 24,
   "metadata": {},
   "outputs": [
    {
     "data": {
      "text/plain": [
       "array(['BATTERY', 'THEFT', 'ASSAULT', 'ROBBERY', 'OTHER OFFENSE',\n",
       "       'CRIMINAL DAMAGE', 'PUBLIC PEACE VIOLATION', 'NARCOTICS',\n",
       "       'CRIMINAL TRESPASS', 'MOTOR VEHICLE THEFT', 'CRIM SEXUAL ASSAULT',\n",
       "       'CRIMINAL SEXUAL ASSAULT', 'OFFENSE INVOLVING CHILDREN',\n",
       "       'BURGLARY', 'ARSON', 'DECEPTIVE PRACTICE', 'SEX OFFENSE',\n",
       "       'STALKING', 'KIDNAPPING', 'OBSCENITY', 'HOMICIDE',\n",
       "       'WEAPONS VIOLATION', 'INTIMIDATION',\n",
       "       'INTERFERENCE WITH PUBLIC OFFICER', 'HUMAN TRAFFICKING',\n",
       "       'PROSTITUTION', 'NON-CRIMINAL (SUBJECT SPECIFIED)',\n",
       "       'LIQUOR LAW VIOLATION', 'GAMBLING', 'RITUALISM',\n",
       "       'DOMESTIC VIOLENCE', 'PUBLIC INDECENCY', 'NON-CRIMINAL'],\n",
       "      dtype=object)"
      ]
     },
     "execution_count": 24,
     "metadata": {},
     "output_type": "execute_result"
    }
   ],
   "source": [
    "smaller_df[smaller_df['Domestic']==True]['Primary Type'].unique()"
   ]
  },
  {
   "cell_type": "code",
   "execution_count": null,
   "metadata": {},
   "outputs": [],
   "source": []
  }
 ],
 "metadata": {
  "kernelspec": {
   "display_name": "Python [conda env:TestEnv] *",
   "language": "python",
   "name": "conda-env-TestEnv-py"
  },
  "language_info": {
   "codemirror_mode": {
    "name": "ipython",
    "version": 3
   },
   "file_extension": ".py",
   "mimetype": "text/x-python",
   "name": "python",
   "nbconvert_exporter": "python",
   "pygments_lexer": "ipython3",
   "version": "3.8.2"
  }
 },
 "nbformat": 4,
 "nbformat_minor": 4
}
