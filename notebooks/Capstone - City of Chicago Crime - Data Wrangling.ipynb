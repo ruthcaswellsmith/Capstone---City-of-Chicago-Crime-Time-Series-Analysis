{
 "cells": [
  {
   "cell_type": "markdown",
   "metadata": {},
   "source": [
    "## City of Chicago Crime Data - Data Wrangling\n",
    "\n",
    "#### Source of data\n",
    "[City of of Chicago](https://catalog.data.gov/dataset/crimes-2001-to-present-398a4)\n",
    "\n",
    "[API Documentation](https://dev.socrata.com/foundry/data.cityofchicago.org/ta3m-92yk)\n",
    "\n",
    "[IUCR Crime codes](https://data.cityofchicago.org/widgets/c7ck-438e)"
   ]
  },
  {
   "cell_type": "markdown",
   "metadata": {},
   "source": [
    "### Import Packages"
   ]
  },
  {
   "cell_type": "code",
   "execution_count": 1,
   "metadata": {},
   "outputs": [],
   "source": [
    "import pandas as pd"
   ]
  },
  {
   "cell_type": "markdown",
   "metadata": {},
   "source": [
    "### Read in Data"
   ]
  },
  {
   "cell_type": "code",
   "execution_count": 2,
   "metadata": {},
   "outputs": [],
   "source": [
    "# read in data\n",
    "crimes = pd.read_csv(\"../data/Crimes_-_2001_to_Present.csv\", header=0, parse_dates=[2])"
   ]
  },
  {
   "cell_type": "markdown",
   "metadata": {},
   "source": [
    "### Reduce Size of DF"
   ]
  },
  {
   "cell_type": "code",
   "execution_count": 3,
   "metadata": {},
   "outputs": [
    {
     "data": {
      "text/plain": [
       "Index(['ID', 'Case Number', 'Date', 'Block', 'IUCR', 'Primary Type',\n",
       "       'Description', 'Location Description', 'Arrest', 'Domestic', 'Beat',\n",
       "       'District', 'Ward', 'Community Area', 'FBI Code', 'X Coordinate',\n",
       "       'Y Coordinate', 'Year', 'Updated On', 'Latitude', 'Longitude',\n",
       "       'Location'],\n",
       "      dtype='object')"
      ]
     },
     "execution_count": 3,
     "metadata": {},
     "output_type": "execute_result"
    }
   ],
   "source": [
    "crimes.columns"
   ]
  },
  {
   "cell_type": "markdown",
   "metadata": {},
   "source": [
    "Columns are:\n",
    "- ID - unique identifier\n",
    "- Case Number - Chicago Police unique case number\n",
    "- Date - timestamp of crime\n",
    "- Block - partially redacted address\n",
    "- IUCR - crime code\n",
    "- Primary Type - description of crime code\n",
    "- Description - secondary description of crime code\n",
    "- Location Description - i.e. STREET - need to see what values there are\n",
    "- Arrest - binary, whether or not an arrest was made\n",
    "- Domestic - binary, whether or not this is domestic crime\n",
    "- Beat - 3-5 beats make up a sector, and 3 sectors make up a district of which there are 22\n",
    "- Ward\n",
    "- Community Area\n",
    "- FBI Code\n",
    "- X Coordinate - The x coordinate of the location where the incident occurred in State Plane Illinois East NAD 1983 projection\n",
    "- Y Coordinate\n",
    "- Year - year crime occcurred\n",
    "- Updated On - last time record was updated\n",
    "- Latitude\n",
    "- Longitude\n",
    "- Location"
   ]
  },
  {
   "cell_type": "code",
   "execution_count": 4,
   "metadata": {},
   "outputs": [
    {
     "data": {
      "text/plain": [
       "(7266864, 22)"
      ]
     },
     "execution_count": 4,
     "metadata": {},
     "output_type": "execute_result"
    }
   ],
   "source": [
    "crimes.shape"
   ]
  },
  {
   "cell_type": "code",
   "execution_count": 5,
   "metadata": {},
   "outputs": [
    {
     "data": {
      "text/html": [
       "<div>\n",
       "<style scoped>\n",
       "    .dataframe tbody tr th:only-of-type {\n",
       "        vertical-align: middle;\n",
       "    }\n",
       "\n",
       "    .dataframe tbody tr th {\n",
       "        vertical-align: top;\n",
       "    }\n",
       "\n",
       "    .dataframe thead th {\n",
       "        text-align: right;\n",
       "    }\n",
       "</style>\n",
       "<table border=\"1\" class=\"dataframe\">\n",
       "  <thead>\n",
       "    <tr style=\"text-align: right;\">\n",
       "      <th></th>\n",
       "      <th>ID</th>\n",
       "      <th>Case Number</th>\n",
       "      <th>Date</th>\n",
       "      <th>Block</th>\n",
       "      <th>IUCR</th>\n",
       "      <th>Primary Type</th>\n",
       "      <th>Description</th>\n",
       "      <th>Location Description</th>\n",
       "      <th>Arrest</th>\n",
       "      <th>Domestic</th>\n",
       "      <th>...</th>\n",
       "      <th>Ward</th>\n",
       "      <th>Community Area</th>\n",
       "      <th>FBI Code</th>\n",
       "      <th>X Coordinate</th>\n",
       "      <th>Y Coordinate</th>\n",
       "      <th>Year</th>\n",
       "      <th>Updated On</th>\n",
       "      <th>Latitude</th>\n",
       "      <th>Longitude</th>\n",
       "      <th>Location</th>\n",
       "    </tr>\n",
       "  </thead>\n",
       "  <tbody>\n",
       "    <tr>\n",
       "      <th>0</th>\n",
       "      <td>10224738</td>\n",
       "      <td>HY411648</td>\n",
       "      <td>2015-09-05 13:30:00</td>\n",
       "      <td>043XX S WOOD ST</td>\n",
       "      <td>0486</td>\n",
       "      <td>BATTERY</td>\n",
       "      <td>DOMESTIC BATTERY SIMPLE</td>\n",
       "      <td>RESIDENCE</td>\n",
       "      <td>False</td>\n",
       "      <td>True</td>\n",
       "      <td>...</td>\n",
       "      <td>12.0</td>\n",
       "      <td>61.0</td>\n",
       "      <td>08B</td>\n",
       "      <td>1165074.0</td>\n",
       "      <td>1875917.0</td>\n",
       "      <td>2015</td>\n",
       "      <td>02/10/2018 03:50:01 PM</td>\n",
       "      <td>41.815117</td>\n",
       "      <td>-87.670000</td>\n",
       "      <td>(41.815117282, -87.669999562)</td>\n",
       "    </tr>\n",
       "    <tr>\n",
       "      <th>1</th>\n",
       "      <td>10224739</td>\n",
       "      <td>HY411615</td>\n",
       "      <td>2015-09-04 11:30:00</td>\n",
       "      <td>008XX N CENTRAL AVE</td>\n",
       "      <td>0870</td>\n",
       "      <td>THEFT</td>\n",
       "      <td>POCKET-PICKING</td>\n",
       "      <td>CTA BUS</td>\n",
       "      <td>False</td>\n",
       "      <td>False</td>\n",
       "      <td>...</td>\n",
       "      <td>29.0</td>\n",
       "      <td>25.0</td>\n",
       "      <td>06</td>\n",
       "      <td>1138875.0</td>\n",
       "      <td>1904869.0</td>\n",
       "      <td>2015</td>\n",
       "      <td>02/10/2018 03:50:01 PM</td>\n",
       "      <td>41.895080</td>\n",
       "      <td>-87.765400</td>\n",
       "      <td>(41.895080471, -87.765400451)</td>\n",
       "    </tr>\n",
       "    <tr>\n",
       "      <th>2</th>\n",
       "      <td>11646166</td>\n",
       "      <td>JC213529</td>\n",
       "      <td>2018-09-01 00:01:00</td>\n",
       "      <td>082XX S INGLESIDE AVE</td>\n",
       "      <td>0810</td>\n",
       "      <td>THEFT</td>\n",
       "      <td>OVER $500</td>\n",
       "      <td>RESIDENCE</td>\n",
       "      <td>False</td>\n",
       "      <td>True</td>\n",
       "      <td>...</td>\n",
       "      <td>8.0</td>\n",
       "      <td>44.0</td>\n",
       "      <td>06</td>\n",
       "      <td>NaN</td>\n",
       "      <td>NaN</td>\n",
       "      <td>2018</td>\n",
       "      <td>04/06/2019 04:04:43 PM</td>\n",
       "      <td>NaN</td>\n",
       "      <td>NaN</td>\n",
       "      <td>NaN</td>\n",
       "    </tr>\n",
       "    <tr>\n",
       "      <th>3</th>\n",
       "      <td>10224740</td>\n",
       "      <td>HY411595</td>\n",
       "      <td>2015-09-05 12:45:00</td>\n",
       "      <td>035XX W BARRY AVE</td>\n",
       "      <td>2023</td>\n",
       "      <td>NARCOTICS</td>\n",
       "      <td>POSS: HEROIN(BRN/TAN)</td>\n",
       "      <td>SIDEWALK</td>\n",
       "      <td>True</td>\n",
       "      <td>False</td>\n",
       "      <td>...</td>\n",
       "      <td>35.0</td>\n",
       "      <td>21.0</td>\n",
       "      <td>18</td>\n",
       "      <td>1152037.0</td>\n",
       "      <td>1920384.0</td>\n",
       "      <td>2015</td>\n",
       "      <td>02/10/2018 03:50:01 PM</td>\n",
       "      <td>41.937406</td>\n",
       "      <td>-87.716650</td>\n",
       "      <td>(41.937405765, -87.716649687)</td>\n",
       "    </tr>\n",
       "    <tr>\n",
       "      <th>4</th>\n",
       "      <td>10224741</td>\n",
       "      <td>HY411610</td>\n",
       "      <td>2015-09-05 13:00:00</td>\n",
       "      <td>0000X N LARAMIE AVE</td>\n",
       "      <td>0560</td>\n",
       "      <td>ASSAULT</td>\n",
       "      <td>SIMPLE</td>\n",
       "      <td>APARTMENT</td>\n",
       "      <td>False</td>\n",
       "      <td>True</td>\n",
       "      <td>...</td>\n",
       "      <td>28.0</td>\n",
       "      <td>25.0</td>\n",
       "      <td>08A</td>\n",
       "      <td>1141706.0</td>\n",
       "      <td>1900086.0</td>\n",
       "      <td>2015</td>\n",
       "      <td>02/10/2018 03:50:01 PM</td>\n",
       "      <td>41.881903</td>\n",
       "      <td>-87.755121</td>\n",
       "      <td>(41.881903443, -87.755121152)</td>\n",
       "    </tr>\n",
       "  </tbody>\n",
       "</table>\n",
       "<p>5 rows × 22 columns</p>\n",
       "</div>"
      ],
      "text/plain": [
       "         ID Case Number                Date                  Block  IUCR  \\\n",
       "0  10224738    HY411648 2015-09-05 13:30:00        043XX S WOOD ST  0486   \n",
       "1  10224739    HY411615 2015-09-04 11:30:00    008XX N CENTRAL AVE  0870   \n",
       "2  11646166    JC213529 2018-09-01 00:01:00  082XX S INGLESIDE AVE  0810   \n",
       "3  10224740    HY411595 2015-09-05 12:45:00      035XX W BARRY AVE  2023   \n",
       "4  10224741    HY411610 2015-09-05 13:00:00    0000X N LARAMIE AVE  0560   \n",
       "\n",
       "  Primary Type              Description Location Description  Arrest  \\\n",
       "0      BATTERY  DOMESTIC BATTERY SIMPLE            RESIDENCE   False   \n",
       "1        THEFT           POCKET-PICKING              CTA BUS   False   \n",
       "2        THEFT                OVER $500            RESIDENCE   False   \n",
       "3    NARCOTICS    POSS: HEROIN(BRN/TAN)             SIDEWALK    True   \n",
       "4      ASSAULT                   SIMPLE            APARTMENT   False   \n",
       "\n",
       "   Domestic  ...  Ward  Community Area  FBI Code  X Coordinate Y Coordinate  \\\n",
       "0      True  ...  12.0            61.0       08B     1165074.0    1875917.0   \n",
       "1     False  ...  29.0            25.0        06     1138875.0    1904869.0   \n",
       "2      True  ...   8.0            44.0        06           NaN          NaN   \n",
       "3     False  ...  35.0            21.0        18     1152037.0    1920384.0   \n",
       "4      True  ...  28.0            25.0       08A     1141706.0    1900086.0   \n",
       "\n",
       "   Year              Updated On   Latitude  Longitude  \\\n",
       "0  2015  02/10/2018 03:50:01 PM  41.815117 -87.670000   \n",
       "1  2015  02/10/2018 03:50:01 PM  41.895080 -87.765400   \n",
       "2  2018  04/06/2019 04:04:43 PM        NaN        NaN   \n",
       "3  2015  02/10/2018 03:50:01 PM  41.937406 -87.716650   \n",
       "4  2015  02/10/2018 03:50:01 PM  41.881903 -87.755121   \n",
       "\n",
       "                        Location  \n",
       "0  (41.815117282, -87.669999562)  \n",
       "1  (41.895080471, -87.765400451)  \n",
       "2                            NaN  \n",
       "3  (41.937405765, -87.716649687)  \n",
       "4  (41.881903443, -87.755121152)  \n",
       "\n",
       "[5 rows x 22 columns]"
      ]
     },
     "execution_count": 5,
     "metadata": {},
     "output_type": "execute_result"
    }
   ],
   "source": [
    "crimes.head()"
   ]
  },
  {
   "cell_type": "code",
   "execution_count": 6,
   "metadata": {
    "scrolled": false
   },
   "outputs": [
    {
     "name": "stdout",
     "output_type": "stream",
     "text": [
      "<class 'pandas.core.frame.DataFrame'>\n",
      "RangeIndex: 7266864 entries, 0 to 7266863\n",
      "Data columns (total 22 columns):\n",
      " #   Column                Dtype         \n",
      "---  ------                -----         \n",
      " 0   ID                    int64         \n",
      " 1   Case Number           object        \n",
      " 2   Date                  datetime64[ns]\n",
      " 3   Block                 object        \n",
      " 4   IUCR                  object        \n",
      " 5   Primary Type          object        \n",
      " 6   Description           object        \n",
      " 7   Location Description  object        \n",
      " 8   Arrest                bool          \n",
      " 9   Domestic              bool          \n",
      " 10  Beat                  int64         \n",
      " 11  District              float64       \n",
      " 12  Ward                  float64       \n",
      " 13  Community Area        float64       \n",
      " 14  FBI Code              object        \n",
      " 15  X Coordinate          float64       \n",
      " 16  Y Coordinate          float64       \n",
      " 17  Year                  int64         \n",
      " 18  Updated On            object        \n",
      " 19  Latitude              float64       \n",
      " 20  Longitude             float64       \n",
      " 21  Location              object        \n",
      "dtypes: bool(2), datetime64[ns](1), float64(7), int64(3), object(9)\n",
      "memory usage: 1.1+ GB\n"
     ]
    }
   ],
   "source": [
    "crimes.info()"
   ]
  },
  {
   "cell_type": "code",
   "execution_count": 7,
   "metadata": {},
   "outputs": [],
   "source": [
    "crimes = crimes[['ID','Date','Primary Type','Community Area']]"
   ]
  },
  {
   "cell_type": "code",
   "execution_count": 8,
   "metadata": {},
   "outputs": [
    {
     "name": "stdout",
     "output_type": "stream",
     "text": [
      "<class 'pandas.core.frame.DataFrame'>\n",
      "RangeIndex: 7266864 entries, 0 to 7266863\n",
      "Data columns (total 4 columns):\n",
      " #   Column          Dtype         \n",
      "---  ------          -----         \n",
      " 0   ID              int64         \n",
      " 1   Date            datetime64[ns]\n",
      " 2   Primary Type    object        \n",
      " 3   Community Area  float64       \n",
      "dtypes: datetime64[ns](1), float64(1), int64(1), object(1)\n",
      "memory usage: 221.8+ MB\n"
     ]
    }
   ],
   "source": [
    "crimes.info()"
   ]
  },
  {
   "cell_type": "code",
   "execution_count": 9,
   "metadata": {},
   "outputs": [
    {
     "data": {
      "text/html": [
       "<div>\n",
       "<style scoped>\n",
       "    .dataframe tbody tr th:only-of-type {\n",
       "        vertical-align: middle;\n",
       "    }\n",
       "\n",
       "    .dataframe tbody tr th {\n",
       "        vertical-align: top;\n",
       "    }\n",
       "\n",
       "    .dataframe thead th {\n",
       "        text-align: right;\n",
       "    }\n",
       "</style>\n",
       "<table border=\"1\" class=\"dataframe\">\n",
       "  <thead>\n",
       "    <tr style=\"text-align: right;\">\n",
       "      <th></th>\n",
       "      <th>ID</th>\n",
       "      <th>Date</th>\n",
       "      <th>Primary Type</th>\n",
       "      <th>Community Area</th>\n",
       "    </tr>\n",
       "  </thead>\n",
       "  <tbody>\n",
       "    <tr>\n",
       "      <th>0</th>\n",
       "      <td>10224738</td>\n",
       "      <td>2015-09-05 13:30:00</td>\n",
       "      <td>BATTERY</td>\n",
       "      <td>61.0</td>\n",
       "    </tr>\n",
       "    <tr>\n",
       "      <th>1</th>\n",
       "      <td>10224739</td>\n",
       "      <td>2015-09-04 11:30:00</td>\n",
       "      <td>THEFT</td>\n",
       "      <td>25.0</td>\n",
       "    </tr>\n",
       "    <tr>\n",
       "      <th>2</th>\n",
       "      <td>11646166</td>\n",
       "      <td>2018-09-01 00:01:00</td>\n",
       "      <td>THEFT</td>\n",
       "      <td>44.0</td>\n",
       "    </tr>\n",
       "    <tr>\n",
       "      <th>3</th>\n",
       "      <td>10224740</td>\n",
       "      <td>2015-09-05 12:45:00</td>\n",
       "      <td>NARCOTICS</td>\n",
       "      <td>21.0</td>\n",
       "    </tr>\n",
       "    <tr>\n",
       "      <th>4</th>\n",
       "      <td>10224741</td>\n",
       "      <td>2015-09-05 13:00:00</td>\n",
       "      <td>ASSAULT</td>\n",
       "      <td>25.0</td>\n",
       "    </tr>\n",
       "  </tbody>\n",
       "</table>\n",
       "</div>"
      ],
      "text/plain": [
       "         ID                Date Primary Type  Community Area\n",
       "0  10224738 2015-09-05 13:30:00      BATTERY            61.0\n",
       "1  10224739 2015-09-04 11:30:00        THEFT            25.0\n",
       "2  11646166 2018-09-01 00:01:00        THEFT            44.0\n",
       "3  10224740 2015-09-05 12:45:00    NARCOTICS            21.0\n",
       "4  10224741 2015-09-05 13:00:00      ASSAULT            25.0"
      ]
     },
     "execution_count": 9,
     "metadata": {},
     "output_type": "execute_result"
    }
   ],
   "source": [
    "crimes.head()"
   ]
  },
  {
   "cell_type": "markdown",
   "metadata": {},
   "source": [
    "### Categorize Crime Type"
   ]
  },
  {
   "cell_type": "markdown",
   "metadata": {},
   "source": [
    "We're going to categorize the crime type so that we have fewer categories.  "
   ]
  },
  {
   "cell_type": "code",
   "execution_count": 10,
   "metadata": {},
   "outputs": [
    {
     "data": {
      "text/plain": [
       "array(['BATTERY', 'THEFT', 'NARCOTICS', 'ASSAULT', 'BURGLARY', 'ROBBERY',\n",
       "       'DECEPTIVE PRACTICE', 'OTHER OFFENSE', 'CRIMINAL DAMAGE',\n",
       "       'WEAPONS VIOLATION', 'CRIMINAL TRESPASS', 'MOTOR VEHICLE THEFT',\n",
       "       'SEX OFFENSE', 'INTERFERENCE WITH PUBLIC OFFICER',\n",
       "       'OFFENSE INVOLVING CHILDREN', 'PUBLIC PEACE VIOLATION',\n",
       "       'PROSTITUTION', 'GAMBLING', 'CRIM SEXUAL ASSAULT',\n",
       "       'LIQUOR LAW VIOLATION', 'CRIMINAL SEXUAL ASSAULT', 'ARSON',\n",
       "       'STALKING', 'KIDNAPPING', 'INTIMIDATION', 'HOMICIDE',\n",
       "       'CONCEALED CARRY LICENSE VIOLATION', 'NON - CRIMINAL',\n",
       "       'HUMAN TRAFFICKING', 'OBSCENITY', 'PUBLIC INDECENCY',\n",
       "       'OTHER NARCOTIC VIOLATION', 'NON-CRIMINAL',\n",
       "       'NON-CRIMINAL (SUBJECT SPECIFIED)', 'RITUALISM',\n",
       "       'DOMESTIC VIOLENCE'], dtype=object)"
      ]
     },
     "execution_count": 10,
     "metadata": {},
     "output_type": "execute_result"
    }
   ],
   "source": [
    "crimes['Primary Type'].unique()"
   ]
  },
  {
   "cell_type": "code",
   "execution_count": 11,
   "metadata": {},
   "outputs": [
    {
     "data": {
      "text/plain": [
       "0"
      ]
     },
     "execution_count": 11,
     "metadata": {},
     "output_type": "execute_result"
    }
   ],
   "source": [
    "crimes['Primary Type'].isnull().sum()"
   ]
  },
  {
   "cell_type": "markdown",
   "metadata": {},
   "source": [
    "We have no null primary types, so that is good."
   ]
  },
  {
   "cell_type": "code",
   "execution_count": 12,
   "metadata": {},
   "outputs": [],
   "source": [
    "# Assign a type for a crime\n",
    "def assign_type(crime):\n",
    "    \"\"\"categorizes a crime\"\"\"\n",
    "    if crime in ['ARSON','ASSAULT','BATTERY','CRIM SEXUAL ASSAULT','CRIMINAL SEXUAL ASSAULT','DOMESTIC VIOLENCE',\\\n",
    "                'HOMICIDE','HUMAN TRAFFICKING','INTIMIDATION','KIDNAPPING','OFFENSE INVOLVING CHILDREN','SEX OFFENSE',\\\n",
    "                 'STALKING']:\n",
    "        return 'Violent'\n",
    "    elif crime in ['THEFT','BURGLARY','CRIMINAL DAMAGE','CRIMINAL TRESPASS','MOTOR VEHICLE THEFT','ROBBERY']:\n",
    "        return 'Property'\n",
    "    elif crime in ['CRIMINAL TRESPASS','CONCEALED CARRY LICENSE VIOLATION','GAMBLING','INTERFERENCE WITH PUBLIC OFFICER',\\\n",
    "                   'LIQUOR LAW VIOLATION','OBSCENITY','PROSTITUTION','PUBLIC INDECENCY','PUBLIC PEACE VIOLATION',\\\n",
    "                   'RITUALISM','WEAPONS VIOLATION']:\n",
    "        return 'Public Order / Vice'\n",
    "    elif crime in ['DECEPTIVE PRACTICE']:\n",
    "        return 'White Collar'\n",
    "    elif crime in ['NARCOTICS','OTHER NARCOTIC VIOLATION']:\n",
    "        return 'Drugs'\n",
    "    else:\n",
    "        return 'Other'"
   ]
  },
  {
   "cell_type": "code",
   "execution_count": 13,
   "metadata": {},
   "outputs": [],
   "source": [
    "crimes['Type'] = crimes.apply(lambda x: assign_type(x['Primary Type']), axis=1)"
   ]
  },
  {
   "cell_type": "code",
   "execution_count": 14,
   "metadata": {},
   "outputs": [
    {
     "data": {
      "text/plain": [
       "Property               3581213\n",
       "Violent                1938349\n",
       "Drugs                   736227\n",
       "Other                   450947\n",
       "White Collar            305225\n",
       "Public Order / Vice     254903\n",
       "Name: Type, dtype: int64"
      ]
     },
     "execution_count": 14,
     "metadata": {},
     "output_type": "execute_result"
    }
   ],
   "source": [
    "crimes['Type'].value_counts()"
   ]
  },
  {
   "cell_type": "markdown",
   "metadata": {},
   "source": [
    "### Add year, month, day of week, hour"
   ]
  },
  {
   "cell_type": "code",
   "execution_count": 15,
   "metadata": {},
   "outputs": [],
   "source": [
    "crimes['Year']=crimes['Date'].dt.year\n",
    "crimes['Month']=crimes['Date'].dt.month\n",
    "crimes['Day of Week']=crimes['Date'].dt.dayofweek\n",
    "crimes['Hour']=crimes['Date'].dt.hour"
   ]
  },
  {
   "cell_type": "code",
   "execution_count": 16,
   "metadata": {},
   "outputs": [
    {
     "data": {
      "text/html": [
       "<div>\n",
       "<style scoped>\n",
       "    .dataframe tbody tr th:only-of-type {\n",
       "        vertical-align: middle;\n",
       "    }\n",
       "\n",
       "    .dataframe tbody tr th {\n",
       "        vertical-align: top;\n",
       "    }\n",
       "\n",
       "    .dataframe thead th {\n",
       "        text-align: right;\n",
       "    }\n",
       "</style>\n",
       "<table border=\"1\" class=\"dataframe\">\n",
       "  <thead>\n",
       "    <tr style=\"text-align: right;\">\n",
       "      <th></th>\n",
       "      <th>ID</th>\n",
       "      <th>Date</th>\n",
       "      <th>Primary Type</th>\n",
       "      <th>Community Area</th>\n",
       "      <th>Type</th>\n",
       "      <th>Year</th>\n",
       "      <th>Month</th>\n",
       "      <th>Day of Week</th>\n",
       "      <th>Hour</th>\n",
       "    </tr>\n",
       "  </thead>\n",
       "  <tbody>\n",
       "    <tr>\n",
       "      <th>0</th>\n",
       "      <td>10224738</td>\n",
       "      <td>2015-09-05 13:30:00</td>\n",
       "      <td>BATTERY</td>\n",
       "      <td>61.0</td>\n",
       "      <td>Violent</td>\n",
       "      <td>2015</td>\n",
       "      <td>9</td>\n",
       "      <td>5</td>\n",
       "      <td>13</td>\n",
       "    </tr>\n",
       "    <tr>\n",
       "      <th>1</th>\n",
       "      <td>10224739</td>\n",
       "      <td>2015-09-04 11:30:00</td>\n",
       "      <td>THEFT</td>\n",
       "      <td>25.0</td>\n",
       "      <td>Property</td>\n",
       "      <td>2015</td>\n",
       "      <td>9</td>\n",
       "      <td>4</td>\n",
       "      <td>11</td>\n",
       "    </tr>\n",
       "    <tr>\n",
       "      <th>2</th>\n",
       "      <td>11646166</td>\n",
       "      <td>2018-09-01 00:01:00</td>\n",
       "      <td>THEFT</td>\n",
       "      <td>44.0</td>\n",
       "      <td>Property</td>\n",
       "      <td>2018</td>\n",
       "      <td>9</td>\n",
       "      <td>5</td>\n",
       "      <td>0</td>\n",
       "    </tr>\n",
       "    <tr>\n",
       "      <th>3</th>\n",
       "      <td>10224740</td>\n",
       "      <td>2015-09-05 12:45:00</td>\n",
       "      <td>NARCOTICS</td>\n",
       "      <td>21.0</td>\n",
       "      <td>Drugs</td>\n",
       "      <td>2015</td>\n",
       "      <td>9</td>\n",
       "      <td>5</td>\n",
       "      <td>12</td>\n",
       "    </tr>\n",
       "    <tr>\n",
       "      <th>4</th>\n",
       "      <td>10224741</td>\n",
       "      <td>2015-09-05 13:00:00</td>\n",
       "      <td>ASSAULT</td>\n",
       "      <td>25.0</td>\n",
       "      <td>Violent</td>\n",
       "      <td>2015</td>\n",
       "      <td>9</td>\n",
       "      <td>5</td>\n",
       "      <td>13</td>\n",
       "    </tr>\n",
       "  </tbody>\n",
       "</table>\n",
       "</div>"
      ],
      "text/plain": [
       "         ID                Date Primary Type  Community Area      Type  Year  \\\n",
       "0  10224738 2015-09-05 13:30:00      BATTERY            61.0   Violent  2015   \n",
       "1  10224739 2015-09-04 11:30:00        THEFT            25.0  Property  2015   \n",
       "2  11646166 2018-09-01 00:01:00        THEFT            44.0  Property  2018   \n",
       "3  10224740 2015-09-05 12:45:00    NARCOTICS            21.0     Drugs  2015   \n",
       "4  10224741 2015-09-05 13:00:00      ASSAULT            25.0   Violent  2015   \n",
       "\n",
       "   Month  Day of Week  Hour  \n",
       "0      9            5    13  \n",
       "1      9            4    11  \n",
       "2      9            5     0  \n",
       "3      9            5    12  \n",
       "4      9            5    13  "
      ]
     },
     "execution_count": 16,
     "metadata": {},
     "output_type": "execute_result"
    }
   ],
   "source": [
    "crimes.head()"
   ]
  },
  {
   "cell_type": "code",
   "execution_count": 17,
   "metadata": {},
   "outputs": [],
   "source": [
    "crimes.replace({'Day of Week':{0:'Monday',1:'Tuesday',2:'Wednesday',3:'Thursday',4:'Friday',5:'Saturday',6:'Sunday'}}, inplace=True)"
   ]
  },
  {
   "cell_type": "markdown",
   "metadata": {},
   "source": [
    "### Missing Invalid Values for Community Area"
   ]
  },
  {
   "cell_type": "code",
   "execution_count": 18,
   "metadata": {},
   "outputs": [
    {
     "data": {
      "text/plain": [
       "0.08442224871691557"
      ]
     },
     "execution_count": 18,
     "metadata": {},
     "output_type": "execute_result"
    }
   ],
   "source": [
    "crimes['Community Area'].isnull().sum() / crimes.shape[0]"
   ]
  },
  {
   "cell_type": "markdown",
   "metadata": {},
   "source": [
    "So 8% of our data has no value for community area.  Let's see how this is distributed throughout the data."
   ]
  },
  {
   "cell_type": "code",
   "execution_count": 19,
   "metadata": {},
   "outputs": [
    {
     "name": "stdout",
     "output_type": "stream",
     "text": [
      "Year: 2001 Percent Null: 0.9872805121554581\n",
      "Year: 2002 Percent Null: 0.27249083233182336\n",
      "Year: 2003 Percent Null: 0.00010084859893982911\n",
      "Year: 2004 Percent Null: 0.0001406053272375953\n",
      "Year: 2005 Percent Null: 0.00011901010043130142\n",
      "Year: 2006 Percent Null: 0.00010934058700275137\n",
      "Year: 2007 Percent Null: 0.0003615138736669176\n",
      "Year: 2008 Percent Null: 0.0005689374215662402\n",
      "Year: 2009 Percent Null: 0.0005575626112261031\n",
      "Year: 2010 Percent Null: 0.0005021462703490726\n",
      "Year: 2011 Percent Null: 0.0005143740550863353\n",
      "Year: 2012 Percent Null: 7.734527227023248e-05\n",
      "Year: 2013 Percent Null: 1.301579140892688e-05\n",
      "Year: 2014 Percent Null: 0.0\n",
      "Year: 2015 Percent Null: 0.0\n",
      "Year: 2016 Percent Null: 0.0\n",
      "Year: 2017 Percent Null: 0.0\n",
      "Year: 2018 Percent Null: 0.0\n",
      "Year: 2019 Percent Null: 0.0\n",
      "Year: 2020 Percent Null: 4.775845682874295e-06\n"
     ]
    }
   ],
   "source": [
    "for year in range(2001, 2021):\n",
    "    per_null = crimes[crimes['Year']==year]['Community Area'].isnull().sum() / \\\n",
    "                crimes[crimes['Year']==year].shape[0]\n",
    "    print(\"Year: {} Percent Null: {}\".format(year, per_null))"
   ]
  },
  {
   "cell_type": "markdown",
   "metadata": {},
   "source": [
    "So we can see clearly that this is a reporting issue, and that community area was not being reported early on in the year 2001 and 2002.  We are interested in looking at crimes for different community areas, so we're going to just drop the early data since we have so much of it.  Let's look at when this was fixed during 2002."
   ]
  },
  {
   "cell_type": "code",
   "execution_count": 20,
   "metadata": {},
   "outputs": [
    {
     "name": "stdout",
     "output_type": "stream",
     "text": [
      "Month: 1 Percent Null: 0.9616466177159819\n",
      "Month: 2 Percent Null: 0.9681205579639623\n",
      "Month: 3 Percent Null: 0.9537384994168718\n",
      "Month: 4 Percent Null: 0.6489909081826356\n",
      "Month: 5 Percent Null: 0.0006757858923869224\n",
      "Month: 6 Percent Null: 0.0009104704097116844\n",
      "Month: 7 Percent Null: 0.00010866730418151786\n",
      "Month: 8 Percent Null: 2.261880527470539e-05\n",
      "Month: 9 Percent Null: 0.00016513718181603718\n",
      "Month: 10 Percent Null: 9.271277582050807e-05\n",
      "Month: 11 Percent Null: 0.00016149870801033592\n"
     ]
    }
   ],
   "source": [
    "for month in range(1,12):\n",
    "    per_null = crimes[(crimes['Year']==2002) & (crimes['Month']==month)]['Community Area'].isnull().sum() / \\\n",
    "                crimes[(crimes['Year']==2002) & (crimes['Month']==month)].shape[0]\n",
    "    print(\"Month: {} Percent Null: {}\".format(month, per_null))"
   ]
  },
  {
   "cell_type": "markdown",
   "metadata": {},
   "source": [
    "So we can see that community area started being reported in May of 2020, so we'll drop all the data prior to that month."
   ]
  },
  {
   "cell_type": "code",
   "execution_count": 21,
   "metadata": {},
   "outputs": [
    {
     "data": {
      "text/plain": [
       "ID                         int64\n",
       "Date              datetime64[ns]\n",
       "Primary Type              object\n",
       "Community Area           float64\n",
       "Type                      object\n",
       "Year                       int64\n",
       "Month                      int64\n",
       "Day of Week               object\n",
       "Hour                       int64\n",
       "dtype: object"
      ]
     },
     "execution_count": 21,
     "metadata": {},
     "output_type": "execute_result"
    }
   ],
   "source": [
    "crimes.dtypes"
   ]
  },
  {
   "cell_type": "code",
   "execution_count": 22,
   "metadata": {},
   "outputs": [],
   "source": [
    "crimes = crimes[crimes['Date']>='2002-05']"
   ]
  },
  {
   "cell_type": "code",
   "execution_count": 23,
   "metadata": {},
   "outputs": [
    {
     "data": {
      "text/plain": [
       "(6630138, 9)"
      ]
     },
     "execution_count": 23,
     "metadata": {},
     "output_type": "execute_result"
    }
   ],
   "source": [
    "crimes.shape"
   ]
  },
  {
   "cell_type": "markdown",
   "metadata": {},
   "source": [
    "Let's check again for null values."
   ]
  },
  {
   "cell_type": "code",
   "execution_count": 24,
   "metadata": {},
   "outputs": [
    {
     "data": {
      "text/plain": [
       "0.00020059914288360212"
      ]
     },
     "execution_count": 24,
     "metadata": {},
     "output_type": "execute_result"
    }
   ],
   "source": [
    "crimes['Community Area'].isnull().sum() / crimes.shape[0]"
   ]
  },
  {
   "cell_type": "markdown",
   "metadata": {},
   "source": [
    "There are so few we'll just drop them.  Then we can force community area to be type int.  "
   ]
  },
  {
   "cell_type": "code",
   "execution_count": 25,
   "metadata": {},
   "outputs": [],
   "source": [
    "crimes.dropna(inplace=True)"
   ]
  },
  {
   "cell_type": "code",
   "execution_count": 26,
   "metadata": {},
   "outputs": [],
   "source": [
    "crimes['Community Area'] = crimes['Community Area'].astype('int')"
   ]
  },
  {
   "cell_type": "code",
   "execution_count": 27,
   "metadata": {},
   "outputs": [
    {
     "data": {
      "text/plain": [
       "Index(['ID', 'Date', 'Primary Type', 'Community Area', 'Type', 'Year', 'Month',\n",
       "       'Day of Week', 'Hour'],\n",
       "      dtype='object')"
      ]
     },
     "execution_count": 27,
     "metadata": {},
     "output_type": "execute_result"
    }
   ],
   "source": [
    "crimes.columns"
   ]
  },
  {
   "cell_type": "markdown",
   "metadata": {},
   "source": [
    "Community Area should be a number from 1 to 77.  Let's see if it is.  "
   ]
  },
  {
   "cell_type": "code",
   "execution_count": 28,
   "metadata": {},
   "outputs": [
    {
     "data": {
      "text/plain": [
       "0         74\n",
       "1     101659\n",
       "2      83524\n",
       "3      96436\n",
       "4      46814\n",
       "       ...  \n",
       "73     78765\n",
       "74     14854\n",
       "75     52962\n",
       "76     37116\n",
       "77     65344\n",
       "Name: Community Area, Length: 78, dtype: int64"
      ]
     },
     "execution_count": 28,
     "metadata": {},
     "output_type": "execute_result"
    }
   ],
   "source": [
    "crimes['Community Area'].value_counts().sort_index()"
   ]
  },
  {
   "cell_type": "markdown",
   "metadata": {},
   "source": [
    "We have just a few records with a community area of 0 so we'll get rid of those"
   ]
  },
  {
   "cell_type": "code",
   "execution_count": 29,
   "metadata": {},
   "outputs": [],
   "source": [
    "crimes = crimes[~(crimes['Community Area']==0)]"
   ]
  },
  {
   "cell_type": "code",
   "execution_count": 30,
   "metadata": {},
   "outputs": [
    {
     "data": {
      "text/plain": [
       "(6628734, 9)"
      ]
     },
     "execution_count": 30,
     "metadata": {},
     "output_type": "execute_result"
    }
   ],
   "source": [
    "crimes.shape"
   ]
  },
  {
   "cell_type": "markdown",
   "metadata": {},
   "source": [
    "#### Add names for community areas"
   ]
  },
  {
   "cell_type": "code",
   "execution_count": 31,
   "metadata": {},
   "outputs": [],
   "source": [
    "community_areas = pd.read_csv('../data/Community Area Names.csv',header=None)"
   ]
  },
  {
   "cell_type": "code",
   "execution_count": 32,
   "metadata": {},
   "outputs": [
    {
     "data": {
      "text/html": [
       "<div>\n",
       "<style scoped>\n",
       "    .dataframe tbody tr th:only-of-type {\n",
       "        vertical-align: middle;\n",
       "    }\n",
       "\n",
       "    .dataframe tbody tr th {\n",
       "        vertical-align: top;\n",
       "    }\n",
       "\n",
       "    .dataframe thead th {\n",
       "        text-align: right;\n",
       "    }\n",
       "</style>\n",
       "<table border=\"1\" class=\"dataframe\">\n",
       "  <thead>\n",
       "    <tr style=\"text-align: right;\">\n",
       "      <th></th>\n",
       "      <th>0</th>\n",
       "      <th>1</th>\n",
       "    </tr>\n",
       "  </thead>\n",
       "  <tbody>\n",
       "    <tr>\n",
       "      <th>0</th>\n",
       "      <td>1</td>\n",
       "      <td>Rogers Park</td>\n",
       "    </tr>\n",
       "    <tr>\n",
       "      <th>1</th>\n",
       "      <td>2</td>\n",
       "      <td>West Ridge</td>\n",
       "    </tr>\n",
       "    <tr>\n",
       "      <th>2</th>\n",
       "      <td>3</td>\n",
       "      <td>Uptown</td>\n",
       "    </tr>\n",
       "    <tr>\n",
       "      <th>3</th>\n",
       "      <td>4</td>\n",
       "      <td>Lincoln Square</td>\n",
       "    </tr>\n",
       "    <tr>\n",
       "      <th>4</th>\n",
       "      <td>5</td>\n",
       "      <td>North Center</td>\n",
       "    </tr>\n",
       "  </tbody>\n",
       "</table>\n",
       "</div>"
      ],
      "text/plain": [
       "   0               1\n",
       "0  1     Rogers Park\n",
       "1  2      West Ridge\n",
       "2  3          Uptown\n",
       "3  4  Lincoln Square\n",
       "4  5    North Center"
      ]
     },
     "execution_count": 32,
     "metadata": {},
     "output_type": "execute_result"
    }
   ],
   "source": [
    "community_areas.head()"
   ]
  },
  {
   "cell_type": "code",
   "execution_count": 33,
   "metadata": {},
   "outputs": [],
   "source": [
    "community_names = {}\n",
    "for area in range(1,78):\n",
    "    community_names[area] = community_areas.iloc[area-1,1]"
   ]
  },
  {
   "cell_type": "code",
   "execution_count": 34,
   "metadata": {},
   "outputs": [
    {
     "data": {
      "text/plain": [
       "{1: 'Rogers Park',\n",
       " 2: 'West Ridge',\n",
       " 3: 'Uptown',\n",
       " 4: 'Lincoln Square',\n",
       " 5: 'North Center',\n",
       " 6: 'Lake View',\n",
       " 7: 'Lincoln Park',\n",
       " 8: 'Near North Side',\n",
       " 9: 'Edison Park',\n",
       " 10: 'Norwood Park',\n",
       " 11: 'Jefferson Park',\n",
       " 12: 'Forest Glen',\n",
       " 13: 'North Park',\n",
       " 14: 'Albany Park',\n",
       " 15: 'Portage Park',\n",
       " 16: 'Irving Park',\n",
       " 17: 'Dunning',\n",
       " 18: 'Montclare',\n",
       " 19: 'Belmont Cragin',\n",
       " 20: 'Hermosa',\n",
       " 21: 'Avondale',\n",
       " 22: 'Logan Square',\n",
       " 23: 'Humboldt Park',\n",
       " 24: 'West Town',\n",
       " 25: 'Austin',\n",
       " 26: 'West Garfield Park',\n",
       " 27: 'East Garfield Park',\n",
       " 28: 'Near West Side',\n",
       " 29: 'North Lawndale',\n",
       " 30: 'South Lawndale',\n",
       " 31: 'Lower West Side',\n",
       " 32: 'The Loop',\n",
       " 33: 'Near South Side',\n",
       " 34: 'Armour Square',\n",
       " 35: 'Douglas',\n",
       " 36: 'Oakland',\n",
       " 37: 'Fuller Park',\n",
       " 38: 'Grand Boulevard',\n",
       " 39: 'Kenwood',\n",
       " 40: 'Washington Park',\n",
       " 41: 'Hyde Park',\n",
       " 42: 'Woodlawn',\n",
       " 43: 'South Shore',\n",
       " 44: 'Chatham',\n",
       " 45: 'Avalon Park',\n",
       " 46: 'South Chicago',\n",
       " 47: 'Burnside',\n",
       " 48: 'Calumet Heights',\n",
       " 49: 'Roseland',\n",
       " 50: 'Pullman',\n",
       " 51: 'South Deering',\n",
       " 52: 'East Side',\n",
       " 53: 'West Pullman',\n",
       " 54: 'Riverdale',\n",
       " 55: 'Hegewisch',\n",
       " 56: 'Garfield Ridge',\n",
       " 57: 'Archer Heights',\n",
       " 58: 'Brighton Park',\n",
       " 59: 'McKinley Park',\n",
       " 60: 'Bridgeport',\n",
       " 61: 'New City',\n",
       " 62: 'West Elsdon',\n",
       " 63: 'Gage Park',\n",
       " 64: 'Clearing',\n",
       " 65: 'West Lawn',\n",
       " 66: 'Chicago Lawn',\n",
       " 67: 'West Englewood',\n",
       " 68: 'Englewood',\n",
       " 69: 'Greater Grand Crossing',\n",
       " 70: 'Ashburn',\n",
       " 71: 'Auburn Gresham',\n",
       " 72: 'Beverly Hills',\n",
       " 73: 'Washington Heights',\n",
       " 74: 'Mount Greenwood',\n",
       " 75: 'Morgan Park',\n",
       " 76: \"O'Hare\",\n",
       " 77: 'Edgewater'}"
      ]
     },
     "execution_count": 34,
     "metadata": {},
     "output_type": "execute_result"
    }
   ],
   "source": [
    "community_names"
   ]
  },
  {
   "cell_type": "code",
   "execution_count": 35,
   "metadata": {},
   "outputs": [],
   "source": [
    "crimes.replace({'Community Area': community_names}, inplace=True)"
   ]
  },
  {
   "cell_type": "code",
   "execution_count": 36,
   "metadata": {},
   "outputs": [
    {
     "data": {
      "text/html": [
       "<div>\n",
       "<style scoped>\n",
       "    .dataframe tbody tr th:only-of-type {\n",
       "        vertical-align: middle;\n",
       "    }\n",
       "\n",
       "    .dataframe tbody tr th {\n",
       "        vertical-align: top;\n",
       "    }\n",
       "\n",
       "    .dataframe thead th {\n",
       "        text-align: right;\n",
       "    }\n",
       "</style>\n",
       "<table border=\"1\" class=\"dataframe\">\n",
       "  <thead>\n",
       "    <tr style=\"text-align: right;\">\n",
       "      <th></th>\n",
       "      <th>ID</th>\n",
       "      <th>Date</th>\n",
       "      <th>Primary Type</th>\n",
       "      <th>Community Area</th>\n",
       "      <th>Type</th>\n",
       "      <th>Year</th>\n",
       "      <th>Month</th>\n",
       "      <th>Day of Week</th>\n",
       "      <th>Hour</th>\n",
       "    </tr>\n",
       "  </thead>\n",
       "  <tbody>\n",
       "    <tr>\n",
       "      <th>0</th>\n",
       "      <td>10224738</td>\n",
       "      <td>2015-09-05 13:30:00</td>\n",
       "      <td>BATTERY</td>\n",
       "      <td>New City</td>\n",
       "      <td>Violent</td>\n",
       "      <td>2015</td>\n",
       "      <td>9</td>\n",
       "      <td>Saturday</td>\n",
       "      <td>13</td>\n",
       "    </tr>\n",
       "    <tr>\n",
       "      <th>1</th>\n",
       "      <td>10224739</td>\n",
       "      <td>2015-09-04 11:30:00</td>\n",
       "      <td>THEFT</td>\n",
       "      <td>Austin</td>\n",
       "      <td>Property</td>\n",
       "      <td>2015</td>\n",
       "      <td>9</td>\n",
       "      <td>Friday</td>\n",
       "      <td>11</td>\n",
       "    </tr>\n",
       "    <tr>\n",
       "      <th>2</th>\n",
       "      <td>11646166</td>\n",
       "      <td>2018-09-01 00:01:00</td>\n",
       "      <td>THEFT</td>\n",
       "      <td>Chatham</td>\n",
       "      <td>Property</td>\n",
       "      <td>2018</td>\n",
       "      <td>9</td>\n",
       "      <td>Saturday</td>\n",
       "      <td>0</td>\n",
       "    </tr>\n",
       "    <tr>\n",
       "      <th>3</th>\n",
       "      <td>10224740</td>\n",
       "      <td>2015-09-05 12:45:00</td>\n",
       "      <td>NARCOTICS</td>\n",
       "      <td>Avondale</td>\n",
       "      <td>Drugs</td>\n",
       "      <td>2015</td>\n",
       "      <td>9</td>\n",
       "      <td>Saturday</td>\n",
       "      <td>12</td>\n",
       "    </tr>\n",
       "    <tr>\n",
       "      <th>4</th>\n",
       "      <td>10224741</td>\n",
       "      <td>2015-09-05 13:00:00</td>\n",
       "      <td>ASSAULT</td>\n",
       "      <td>Austin</td>\n",
       "      <td>Violent</td>\n",
       "      <td>2015</td>\n",
       "      <td>9</td>\n",
       "      <td>Saturday</td>\n",
       "      <td>13</td>\n",
       "    </tr>\n",
       "  </tbody>\n",
       "</table>\n",
       "</div>"
      ],
      "text/plain": [
       "         ID                Date Primary Type Community Area      Type  Year  \\\n",
       "0  10224738 2015-09-05 13:30:00      BATTERY       New City   Violent  2015   \n",
       "1  10224739 2015-09-04 11:30:00        THEFT         Austin  Property  2015   \n",
       "2  11646166 2018-09-01 00:01:00        THEFT        Chatham  Property  2018   \n",
       "3  10224740 2015-09-05 12:45:00    NARCOTICS       Avondale     Drugs  2015   \n",
       "4  10224741 2015-09-05 13:00:00      ASSAULT         Austin   Violent  2015   \n",
       "\n",
       "   Month Day of Week  Hour  \n",
       "0      9    Saturday    13  \n",
       "1      9      Friday    11  \n",
       "2      9    Saturday     0  \n",
       "3      9    Saturday    12  \n",
       "4      9    Saturday    13  "
      ]
     },
     "execution_count": 36,
     "metadata": {},
     "output_type": "execute_result"
    }
   ],
   "source": [
    "crimes.head()"
   ]
  },
  {
   "cell_type": "code",
   "execution_count": 37,
   "metadata": {},
   "outputs": [
    {
     "data": {
      "text/plain": [
       "array(['New City', 'Austin', 'Chatham', 'Avondale', 'Auburn Gresham',\n",
       "       'West Town', 'Lower West Side', 'East Garfield Park', 'Gage Park',\n",
       "       'West Lawn', 'Jefferson Park', 'Roseland', 'Kenwood',\n",
       "       'South Deering', 'Portage Park', 'East Side', 'Forest Glen',\n",
       "       'South Shore', 'South Chicago', 'The Loop', 'Englewood',\n",
       "       'Albany Park', 'North Lawndale', 'West Ridge',\n",
       "       'Greater Grand Crossing', 'Humboldt Park', 'Douglas',\n",
       "       'Near North Side', 'Uptown', 'Lake View', 'Garfield Ridge',\n",
       "       'Near West Side', 'West Pullman', 'Pullman', 'Near South Side',\n",
       "       'North Park', 'Mount Greenwood', 'Belmont Cragin', 'Beverly Hills',\n",
       "       'Logan Square', 'Clearing', 'Lincoln Park', 'North Center',\n",
       "       'West Garfield Park', 'Chicago Lawn', 'McKinley Park', 'Edgewater',\n",
       "       'Rogers Park', 'Norwood Park', 'West Englewood', 'Grand Boulevard',\n",
       "       'Hyde Park', 'Bridgeport', 'South Lawndale', 'Riverdale',\n",
       "       'Brighton Park', 'Calumet Heights', 'Washington Heights',\n",
       "       'Ashburn', 'Washington Park', 'Armour Square', 'Irving Park',\n",
       "       'Montclare', 'Lincoln Square', 'Dunning', 'Woodlawn',\n",
       "       'Fuller Park', 'Morgan Park', 'West Elsdon', 'Hermosa',\n",
       "       'Archer Heights', \"O'Hare\", 'Avalon Park', 'Burnside',\n",
       "       'Edison Park', 'Oakland', 'Hegewisch'], dtype=object)"
      ]
     },
     "execution_count": 37,
     "metadata": {},
     "output_type": "execute_result"
    }
   ],
   "source": [
    "crimes['Community Area'].unique()"
   ]
  },
  {
   "cell_type": "code",
   "execution_count": 38,
   "metadata": {},
   "outputs": [],
   "source": [
    "# Let's write this out now since we have crime type categorized\n",
    "crimes[['ID', 'Date', 'Community Area', 'Type', 'Year', 'Month',\n",
    "       'Day of Week', 'Hour']].to_csv('../data/All Crimes Categorized.csv', index=False)"
   ]
  },
  {
   "cell_type": "code",
   "execution_count": null,
   "metadata": {},
   "outputs": [],
   "source": []
  }
 ],
 "metadata": {
  "kernelspec": {
   "display_name": "Python 3",
   "language": "python",
   "name": "python3"
  },
  "language_info": {
   "codemirror_mode": {
    "name": "ipython",
    "version": 3
   },
   "file_extension": ".py",
   "mimetype": "text/x-python",
   "name": "python",
   "nbconvert_exporter": "python",
   "pygments_lexer": "ipython3",
   "version": "3.8.3"
  }
 },
 "nbformat": 4,
 "nbformat_minor": 4
}
