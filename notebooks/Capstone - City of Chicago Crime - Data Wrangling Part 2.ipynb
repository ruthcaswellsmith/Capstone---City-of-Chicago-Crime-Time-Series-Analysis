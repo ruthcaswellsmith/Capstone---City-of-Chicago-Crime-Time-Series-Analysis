{
 "cells": [
  {
   "cell_type": "markdown",
   "metadata": {},
   "source": [
    "## Further Data Wrangling - grouping, merging data sources, etc...."
   ]
  },
  {
   "cell_type": "markdown",
   "metadata": {},
   "source": [
    "### Import Packages"
   ]
  },
  {
   "cell_type": "code",
   "execution_count": 1,
   "metadata": {},
   "outputs": [],
   "source": [
    "import numpy as np\n",
    "import pandas as pd\n",
    "import matplotlib.pyplot as plt\n",
    "import seaborn as sns\n",
    "sns.set()"
   ]
  },
  {
   "cell_type": "markdown",
   "metadata": {},
   "source": [
    "### Read in Data"
   ]
  },
  {
   "cell_type": "code",
   "execution_count": 2,
   "metadata": {},
   "outputs": [],
   "source": [
    "df = pd.read_csv('../data/Smaller Dataset - Data Wrangling.csv', index_col = 0, parse_dates = True)"
   ]
  },
  {
   "cell_type": "code",
   "execution_count": 3,
   "metadata": {},
   "outputs": [
    {
     "name": "stdout",
     "output_type": "stream",
     "text": [
      "<class 'pandas.core.frame.DataFrame'>\n",
      "DatetimeIndex: 7255968 entries, 2015-09-05 13:30:00 to 2020-12-27 12:13:00\n",
      "Data columns (total 8 columns):\n",
      " #   Column        Dtype  \n",
      "---  ------        -----  \n",
      " 0   ID            int64  \n",
      " 1   IUCR          object \n",
      " 2   Primary Type  object \n",
      " 3   Description   object \n",
      " 4   Arrest        bool   \n",
      " 5   Domestic      bool   \n",
      " 6   Latitude      float64\n",
      " 7   Longitude     float64\n",
      "dtypes: bool(2), float64(2), int64(1), object(3)\n",
      "memory usage: 401.4+ MB\n"
     ]
    }
   ],
   "source": [
    "df.info()"
   ]
  },
  {
   "cell_type": "code",
   "execution_count": 4,
   "metadata": {},
   "outputs": [
    {
     "data": {
      "text/plain": [
       "pandas.core.indexes.datetimes.DatetimeIndex"
      ]
     },
     "execution_count": 4,
     "metadata": {},
     "output_type": "execute_result"
    }
   ],
   "source": [
    "type(df.index)"
   ]
  },
  {
   "cell_type": "code",
   "execution_count": 5,
   "metadata": {},
   "outputs": [
    {
     "data": {
      "text/plain": [
       "Timestamp('2001-01-01 00:00:00')"
      ]
     },
     "execution_count": 5,
     "metadata": {},
     "output_type": "execute_result"
    }
   ],
   "source": [
    "df.index.to_series().min()"
   ]
  },
  {
   "cell_type": "code",
   "execution_count": 6,
   "metadata": {},
   "outputs": [
    {
     "data": {
      "text/plain": [
       "Timestamp('2020-12-27 23:59:00')"
      ]
     },
     "execution_count": 6,
     "metadata": {},
     "output_type": "execute_result"
    }
   ],
   "source": [
    "df.index.to_series().max()"
   ]
  },
  {
   "cell_type": "code",
   "execution_count": 7,
   "metadata": {},
   "outputs": [
    {
     "data": {
      "text/plain": [
       "1970069"
      ]
     },
     "execution_count": 7,
     "metadata": {},
     "output_type": "execute_result"
    }
   ],
   "source": [
    "# This is how many crimes resulted in arrest\n",
    "df[df['Arrest']]['Arrest'].count()"
   ]
  },
  {
   "cell_type": "code",
   "execution_count": 8,
   "metadata": {},
   "outputs": [
    {
     "data": {
      "text/plain": [
       "974228"
      ]
     },
     "execution_count": 8,
     "metadata": {},
     "output_type": "execute_result"
    }
   ],
   "source": [
    "# This is how many crimes were domestic\n",
    "df[df['Domestic']]['Domestic'].count()"
   ]
  },
  {
   "cell_type": "markdown",
   "metadata": {},
   "source": [
    "### Group Data "
   ]
  },
  {
   "cell_type": "code",
   "execution_count": 34,
   "metadata": {},
   "outputs": [
    {
     "data": {
      "text/html": [
       "<div>\n",
       "<style scoped>\n",
       "    .dataframe tbody tr th:only-of-type {\n",
       "        vertical-align: middle;\n",
       "    }\n",
       "\n",
       "    .dataframe tbody tr th {\n",
       "        vertical-align: top;\n",
       "    }\n",
       "\n",
       "    .dataframe thead th {\n",
       "        text-align: right;\n",
       "    }\n",
       "</style>\n",
       "<table border=\"1\" class=\"dataframe\">\n",
       "  <thead>\n",
       "    <tr style=\"text-align: right;\">\n",
       "      <th></th>\n",
       "      <th>ID</th>\n",
       "      <th>IUCR</th>\n",
       "      <th>Primary Type</th>\n",
       "      <th>Description</th>\n",
       "      <th>Arrest</th>\n",
       "      <th>Domestic</th>\n",
       "      <th>Latitude</th>\n",
       "      <th>Longitude</th>\n",
       "    </tr>\n",
       "    <tr>\n",
       "      <th>Date</th>\n",
       "      <th></th>\n",
       "      <th></th>\n",
       "      <th></th>\n",
       "      <th></th>\n",
       "      <th></th>\n",
       "      <th></th>\n",
       "      <th></th>\n",
       "      <th></th>\n",
       "    </tr>\n",
       "  </thead>\n",
       "  <tbody>\n",
       "    <tr>\n",
       "      <th>2015-09-05 13:30:00</th>\n",
       "      <td>10224738</td>\n",
       "      <td>0486</td>\n",
       "      <td>BATTERY</td>\n",
       "      <td>DOMESTIC BATTERY SIMPLE</td>\n",
       "      <td>False</td>\n",
       "      <td>True</td>\n",
       "      <td>41.815117</td>\n",
       "      <td>-87.670000</td>\n",
       "    </tr>\n",
       "    <tr>\n",
       "      <th>2015-09-04 11:30:00</th>\n",
       "      <td>10224739</td>\n",
       "      <td>0870</td>\n",
       "      <td>THEFT</td>\n",
       "      <td>POCKET-PICKING</td>\n",
       "      <td>False</td>\n",
       "      <td>False</td>\n",
       "      <td>41.895080</td>\n",
       "      <td>-87.765400</td>\n",
       "    </tr>\n",
       "    <tr>\n",
       "      <th>2018-09-01 00:01:00</th>\n",
       "      <td>11646166</td>\n",
       "      <td>0810</td>\n",
       "      <td>THEFT</td>\n",
       "      <td>OVER $500</td>\n",
       "      <td>False</td>\n",
       "      <td>True</td>\n",
       "      <td>NaN</td>\n",
       "      <td>NaN</td>\n",
       "    </tr>\n",
       "    <tr>\n",
       "      <th>2015-09-05 12:45:00</th>\n",
       "      <td>10224740</td>\n",
       "      <td>2023</td>\n",
       "      <td>NARCOTICS</td>\n",
       "      <td>POSS: HEROIN(BRN/TAN)</td>\n",
       "      <td>True</td>\n",
       "      <td>False</td>\n",
       "      <td>41.937406</td>\n",
       "      <td>-87.716650</td>\n",
       "    </tr>\n",
       "    <tr>\n",
       "      <th>2015-09-05 13:00:00</th>\n",
       "      <td>10224741</td>\n",
       "      <td>0560</td>\n",
       "      <td>ASSAULT</td>\n",
       "      <td>SIMPLE</td>\n",
       "      <td>False</td>\n",
       "      <td>True</td>\n",
       "      <td>41.881903</td>\n",
       "      <td>-87.755121</td>\n",
       "    </tr>\n",
       "  </tbody>\n",
       "</table>\n",
       "</div>"
      ],
      "text/plain": [
       "                           ID  IUCR Primary Type              Description  \\\n",
       "Date                                                                        \n",
       "2015-09-05 13:30:00  10224738  0486      BATTERY  DOMESTIC BATTERY SIMPLE   \n",
       "2015-09-04 11:30:00  10224739  0870        THEFT           POCKET-PICKING   \n",
       "2018-09-01 00:01:00  11646166  0810        THEFT                OVER $500   \n",
       "2015-09-05 12:45:00  10224740  2023    NARCOTICS    POSS: HEROIN(BRN/TAN)   \n",
       "2015-09-05 13:00:00  10224741  0560      ASSAULT                   SIMPLE   \n",
       "\n",
       "                     Arrest  Domestic   Latitude  Longitude  \n",
       "Date                                                         \n",
       "2015-09-05 13:30:00   False      True  41.815117 -87.670000  \n",
       "2015-09-04 11:30:00   False     False  41.895080 -87.765400  \n",
       "2018-09-01 00:01:00   False      True        NaN        NaN  \n",
       "2015-09-05 12:45:00    True     False  41.937406 -87.716650  \n",
       "2015-09-05 13:00:00   False      True  41.881903 -87.755121  "
      ]
     },
     "execution_count": 34,
     "metadata": {},
     "output_type": "execute_result"
    }
   ],
   "source": [
    "df.head()"
   ]
  },
  {
   "cell_type": "markdown",
   "metadata": {},
   "source": [
    "#### First group by day and primary type"
   ]
  },
  {
   "cell_type": "code",
   "execution_count": 35,
   "metadata": {},
   "outputs": [],
   "source": [
    "allcrimes_byday = df[['ID','Primary Type']].groupby(by=[df.index.date,'Primary Type']).count().rename(columns={'ID':'Count'})"
   ]
  },
  {
   "cell_type": "code",
   "execution_count": 36,
   "metadata": {},
   "outputs": [],
   "source": [
    "allcrimes_byday = allcrimes_byday.reset_index().rename(columns={'level_0':'Date'}).set_index('Date')"
   ]
  },
  {
   "cell_type": "code",
   "execution_count": 37,
   "metadata": {},
   "outputs": [
    {
     "data": {
      "text/html": [
       "<div>\n",
       "<style scoped>\n",
       "    .dataframe tbody tr th:only-of-type {\n",
       "        vertical-align: middle;\n",
       "    }\n",
       "\n",
       "    .dataframe tbody tr th {\n",
       "        vertical-align: top;\n",
       "    }\n",
       "\n",
       "    .dataframe thead th {\n",
       "        text-align: right;\n",
       "    }\n",
       "</style>\n",
       "<table border=\"1\" class=\"dataframe\">\n",
       "  <thead>\n",
       "    <tr style=\"text-align: right;\">\n",
       "      <th></th>\n",
       "      <th>Primary Type</th>\n",
       "      <th>Count</th>\n",
       "    </tr>\n",
       "    <tr>\n",
       "      <th>Date</th>\n",
       "      <th></th>\n",
       "      <th></th>\n",
       "    </tr>\n",
       "  </thead>\n",
       "  <tbody>\n",
       "    <tr>\n",
       "      <th>2001-01-01</th>\n",
       "      <td>ASSAULT</td>\n",
       "      <td>70</td>\n",
       "    </tr>\n",
       "    <tr>\n",
       "      <th>2001-01-01</th>\n",
       "      <td>BATTERY</td>\n",
       "      <td>296</td>\n",
       "    </tr>\n",
       "    <tr>\n",
       "      <th>2001-01-01</th>\n",
       "      <td>BURGLARY</td>\n",
       "      <td>66</td>\n",
       "    </tr>\n",
       "    <tr>\n",
       "      <th>2001-01-01</th>\n",
       "      <td>CRIM SEXUAL ASSAULT</td>\n",
       "      <td>38</td>\n",
       "    </tr>\n",
       "    <tr>\n",
       "      <th>2001-01-01</th>\n",
       "      <td>CRIMINAL DAMAGE</td>\n",
       "      <td>233</td>\n",
       "    </tr>\n",
       "  </tbody>\n",
       "</table>\n",
       "</div>"
      ],
      "text/plain": [
       "                   Primary Type  Count\n",
       "Date                                  \n",
       "2001-01-01              ASSAULT     70\n",
       "2001-01-01              BATTERY    296\n",
       "2001-01-01             BURGLARY     66\n",
       "2001-01-01  CRIM SEXUAL ASSAULT     38\n",
       "2001-01-01      CRIMINAL DAMAGE    233"
      ]
     },
     "execution_count": 37,
     "metadata": {},
     "output_type": "execute_result"
    }
   ],
   "source": [
    "allcrimes_byday.head()"
   ]
  },
  {
   "cell_type": "markdown",
   "metadata": {},
   "source": [
    "We have too many Primary Types so we're going to combine these into a smaller number of categories based on some research I've done on crime types.  "
   ]
  },
  {
   "cell_type": "code",
   "execution_count": 38,
   "metadata": {},
   "outputs": [],
   "source": [
    "# Assign a type for a crime\n",
    "def assign_type(crime):\n",
    "    \"\"\"categorizes a crime\"\"\"\n",
    "    if crime in ['ARSON','ASSAULT','BATTERY','CRIM SEXUAL ASSAULT','CRIMINAL SEXUAL ASSAULT','DOMESTIC VIOLENCE',\\\n",
    "                'HOMICIDE','HUMAN TRAFFICKING','INTIMIDATION','KIDNAPPING','OFFENSE INVOLVING CHILDREN','SEX OFFENSE',\\\n",
    "                 'STALKING']:\n",
    "        return 'Violent'\n",
    "    elif crime in ['BURGLARY','CRIMINAL DAMAGE','CRIMINAL TRESPASS','MOTOR VEHICLE THEFT','ROBBERY']:\n",
    "        return 'Property'\n",
    "    elif crime in ['CONCEALED CARRY LICENSE VIOLATION','GAMBLING','INTERFERENCE WITH PUBLIC OFFICER','LIQUOR LAW VIOLATION',\\\n",
    "                  'OBSCENITY','PROSTITUTION','PUBLIC INDECENCY','PUBLIC PEACE VIOLATION','RITUALISM','WEAPONS VIOLATION']:\n",
    "        return 'Public Order / Vice'\n",
    "    elif crime in ['DECEPTIVE PRACTICE']:\n",
    "        return 'White Collar'\n",
    "    elif crime in ['NARCOTICS','OTHER NARCOTIC VIOLATION']:\n",
    "        return 'Drugs'\n",
    "    else:\n",
    "        return 'Other'"
   ]
  },
  {
   "cell_type": "code",
   "execution_count": 39,
   "metadata": {},
   "outputs": [],
   "source": [
    "allcrimes_byday['TYPE'] = allcrimes_byday.apply(lambda x: assign_type(x['Primary Type']), axis=1)\n",
    "allcrimes_byday.drop(columns='Primary Type', inplace=True)"
   ]
  },
  {
   "cell_type": "code",
   "execution_count": 40,
   "metadata": {},
   "outputs": [
    {
     "data": {
      "text/html": [
       "<div>\n",
       "<style scoped>\n",
       "    .dataframe tbody tr th:only-of-type {\n",
       "        vertical-align: middle;\n",
       "    }\n",
       "\n",
       "    .dataframe tbody tr th {\n",
       "        vertical-align: top;\n",
       "    }\n",
       "\n",
       "    .dataframe thead th {\n",
       "        text-align: right;\n",
       "    }\n",
       "</style>\n",
       "<table border=\"1\" class=\"dataframe\">\n",
       "  <thead>\n",
       "    <tr style=\"text-align: right;\">\n",
       "      <th></th>\n",
       "      <th>Count</th>\n",
       "      <th>TYPE</th>\n",
       "    </tr>\n",
       "    <tr>\n",
       "      <th>Date</th>\n",
       "      <th></th>\n",
       "      <th></th>\n",
       "    </tr>\n",
       "  </thead>\n",
       "  <tbody>\n",
       "    <tr>\n",
       "      <th>2001-01-01</th>\n",
       "      <td>70</td>\n",
       "      <td>Violent</td>\n",
       "    </tr>\n",
       "    <tr>\n",
       "      <th>2001-01-01</th>\n",
       "      <td>296</td>\n",
       "      <td>Violent</td>\n",
       "    </tr>\n",
       "    <tr>\n",
       "      <th>2001-01-01</th>\n",
       "      <td>66</td>\n",
       "      <td>Property</td>\n",
       "    </tr>\n",
       "    <tr>\n",
       "      <th>2001-01-01</th>\n",
       "      <td>38</td>\n",
       "      <td>Violent</td>\n",
       "    </tr>\n",
       "    <tr>\n",
       "      <th>2001-01-01</th>\n",
       "      <td>233</td>\n",
       "      <td>Property</td>\n",
       "    </tr>\n",
       "  </tbody>\n",
       "</table>\n",
       "</div>"
      ],
      "text/plain": [
       "            Count      TYPE\n",
       "Date                       \n",
       "2001-01-01     70   Violent\n",
       "2001-01-01    296   Violent\n",
       "2001-01-01     66  Property\n",
       "2001-01-01     38   Violent\n",
       "2001-01-01    233  Property"
      ]
     },
     "execution_count": 40,
     "metadata": {},
     "output_type": "execute_result"
    }
   ],
   "source": [
    "allcrimes_byday.head()"
   ]
  },
  {
   "cell_type": "code",
   "execution_count": 41,
   "metadata": {},
   "outputs": [],
   "source": [
    "# Now group by type\n",
    "grouped_crimes_byday = allcrimes_byday.groupby(by=[allcrimes_byday.index,'TYPE']).sum()"
   ]
  },
  {
   "cell_type": "code",
   "execution_count": 42,
   "metadata": {},
   "outputs": [],
   "source": [
    "grouped_crimes_byday = grouped_crimes_byday.reset_index().rename(columns={'level_0':'Date'}).set_index('Date')"
   ]
  },
  {
   "cell_type": "code",
   "execution_count": 43,
   "metadata": {},
   "outputs": [
    {
     "data": {
      "text/html": [
       "<div>\n",
       "<style scoped>\n",
       "    .dataframe tbody tr th:only-of-type {\n",
       "        vertical-align: middle;\n",
       "    }\n",
       "\n",
       "    .dataframe tbody tr th {\n",
       "        vertical-align: top;\n",
       "    }\n",
       "\n",
       "    .dataframe thead th {\n",
       "        text-align: right;\n",
       "    }\n",
       "</style>\n",
       "<table border=\"1\" class=\"dataframe\">\n",
       "  <thead>\n",
       "    <tr style=\"text-align: right;\">\n",
       "      <th></th>\n",
       "      <th>TYPE</th>\n",
       "      <th>Count</th>\n",
       "    </tr>\n",
       "    <tr>\n",
       "      <th>Date</th>\n",
       "      <th></th>\n",
       "      <th></th>\n",
       "    </tr>\n",
       "  </thead>\n",
       "  <tbody>\n",
       "    <tr>\n",
       "      <th>2001-01-01</th>\n",
       "      <td>Drugs</td>\n",
       "      <td>97</td>\n",
       "    </tr>\n",
       "    <tr>\n",
       "      <th>2001-01-01</th>\n",
       "      <td>Other</td>\n",
       "      <td>580</td>\n",
       "    </tr>\n",
       "    <tr>\n",
       "      <th>2001-01-01</th>\n",
       "      <td>Property</td>\n",
       "      <td>429</td>\n",
       "    </tr>\n",
       "    <tr>\n",
       "      <th>2001-01-01</th>\n",
       "      <td>Public Order / Vice</td>\n",
       "      <td>48</td>\n",
       "    </tr>\n",
       "    <tr>\n",
       "      <th>2001-01-01</th>\n",
       "      <td>Violent</td>\n",
       "      <td>574</td>\n",
       "    </tr>\n",
       "  </tbody>\n",
       "</table>\n",
       "</div>"
      ],
      "text/plain": [
       "                           TYPE  Count\n",
       "Date                                  \n",
       "2001-01-01                Drugs     97\n",
       "2001-01-01                Other    580\n",
       "2001-01-01             Property    429\n",
       "2001-01-01  Public Order / Vice     48\n",
       "2001-01-01              Violent    574"
      ]
     },
     "execution_count": 43,
     "metadata": {},
     "output_type": "execute_result"
    }
   ],
   "source": [
    "grouped_crimes_byday.head()"
   ]
  },
  {
   "cell_type": "code",
   "execution_count": 44,
   "metadata": {},
   "outputs": [],
   "source": [
    "# Now pivot the table\n",
    "grouped_crimes_byday = grouped_crimes_byday.pivot(columns='TYPE',values='Count')"
   ]
  },
  {
   "cell_type": "code",
   "execution_count": 45,
   "metadata": {},
   "outputs": [
    {
     "data": {
      "text/html": [
       "<div>\n",
       "<style scoped>\n",
       "    .dataframe tbody tr th:only-of-type {\n",
       "        vertical-align: middle;\n",
       "    }\n",
       "\n",
       "    .dataframe tbody tr th {\n",
       "        vertical-align: top;\n",
       "    }\n",
       "\n",
       "    .dataframe thead th {\n",
       "        text-align: right;\n",
       "    }\n",
       "</style>\n",
       "<table border=\"1\" class=\"dataframe\">\n",
       "  <thead>\n",
       "    <tr style=\"text-align: right;\">\n",
       "      <th>TYPE</th>\n",
       "      <th>Drugs</th>\n",
       "      <th>Other</th>\n",
       "      <th>Property</th>\n",
       "      <th>Public Order / Vice</th>\n",
       "      <th>Violent</th>\n",
       "      <th>White Collar</th>\n",
       "    </tr>\n",
       "    <tr>\n",
       "      <th>Date</th>\n",
       "      <th></th>\n",
       "      <th></th>\n",
       "      <th></th>\n",
       "      <th></th>\n",
       "      <th></th>\n",
       "      <th></th>\n",
       "    </tr>\n",
       "  </thead>\n",
       "  <tbody>\n",
       "    <tr>\n",
       "      <th>2001-01-01</th>\n",
       "      <td>97</td>\n",
       "      <td>580</td>\n",
       "      <td>429</td>\n",
       "      <td>48</td>\n",
       "      <td>574</td>\n",
       "      <td>92</td>\n",
       "    </tr>\n",
       "    <tr>\n",
       "      <th>2001-01-02</th>\n",
       "      <td>175</td>\n",
       "      <td>322</td>\n",
       "      <td>321</td>\n",
       "      <td>26</td>\n",
       "      <td>221</td>\n",
       "      <td>78</td>\n",
       "    </tr>\n",
       "    <tr>\n",
       "      <th>2001-01-03</th>\n",
       "      <td>133</td>\n",
       "      <td>322</td>\n",
       "      <td>351</td>\n",
       "      <td>32</td>\n",
       "      <td>264</td>\n",
       "      <td>49</td>\n",
       "    </tr>\n",
       "    <tr>\n",
       "      <th>2001-01-04</th>\n",
       "      <td>142</td>\n",
       "      <td>339</td>\n",
       "      <td>359</td>\n",
       "      <td>40</td>\n",
       "      <td>244</td>\n",
       "      <td>42</td>\n",
       "    </tr>\n",
       "    <tr>\n",
       "      <th>2001-01-05</th>\n",
       "      <td>185</td>\n",
       "      <td>355</td>\n",
       "      <td>367</td>\n",
       "      <td>37</td>\n",
       "      <td>270</td>\n",
       "      <td>53</td>\n",
       "    </tr>\n",
       "  </tbody>\n",
       "</table>\n",
       "</div>"
      ],
      "text/plain": [
       "TYPE        Drugs  Other  Property  Public Order / Vice  Violent  White Collar\n",
       "Date                                                                          \n",
       "2001-01-01     97    580       429                   48      574            92\n",
       "2001-01-02    175    322       321                   26      221            78\n",
       "2001-01-03    133    322       351                   32      264            49\n",
       "2001-01-04    142    339       359                   40      244            42\n",
       "2001-01-05    185    355       367                   37      270            53"
      ]
     },
     "execution_count": 45,
     "metadata": {},
     "output_type": "execute_result"
    }
   ],
   "source": [
    "grouped_crimes_byday.head()"
   ]
  },
  {
   "cell_type": "markdown",
   "metadata": {},
   "source": [
    "#### Add total crimes column"
   ]
  },
  {
   "cell_type": "code",
   "execution_count": 46,
   "metadata": {},
   "outputs": [],
   "source": [
    "grouped_crimes_byday['Total Crimes'] = grouped_crimes_byday.sum(axis=1)"
   ]
  },
  {
   "cell_type": "code",
   "execution_count": 47,
   "metadata": {},
   "outputs": [
    {
     "data": {
      "text/plain": [
       "7255968"
      ]
     },
     "execution_count": 47,
     "metadata": {},
     "output_type": "execute_result"
    }
   ],
   "source": [
    "grouped_crimes_byday['Total Crimes'].sum()"
   ]
  },
  {
   "cell_type": "code",
   "execution_count": 52,
   "metadata": {},
   "outputs": [
    {
     "data": {
      "text/plain": [
       "(7301, 7)"
      ]
     },
     "execution_count": 52,
     "metadata": {},
     "output_type": "execute_result"
    }
   ],
   "source": [
    "grouped_crimes_byday.shape"
   ]
  },
  {
   "cell_type": "markdown",
   "metadata": {},
   "source": [
    "#### Group by day counting arrests and domestics"
   ]
  },
  {
   "cell_type": "code",
   "execution_count": 48,
   "metadata": {
    "scrolled": true
   },
   "outputs": [],
   "source": [
    "arrests_domestics = df[['Arrest','Domestic']].groupby(by=[df.index.date]).sum()"
   ]
  },
  {
   "cell_type": "code",
   "execution_count": 49,
   "metadata": {},
   "outputs": [],
   "source": [
    "arrests_domestics[['Arrest','Domestic']] = arrests_domestics[['Arrest','Domestic']].astype('int')"
   ]
  },
  {
   "cell_type": "code",
   "execution_count": 50,
   "metadata": {},
   "outputs": [
    {
     "data": {
      "text/html": [
       "<div>\n",
       "<style scoped>\n",
       "    .dataframe tbody tr th:only-of-type {\n",
       "        vertical-align: middle;\n",
       "    }\n",
       "\n",
       "    .dataframe tbody tr th {\n",
       "        vertical-align: top;\n",
       "    }\n",
       "\n",
       "    .dataframe thead th {\n",
       "        text-align: right;\n",
       "    }\n",
       "</style>\n",
       "<table border=\"1\" class=\"dataframe\">\n",
       "  <thead>\n",
       "    <tr style=\"text-align: right;\">\n",
       "      <th></th>\n",
       "      <th>Arrest</th>\n",
       "      <th>Domestic</th>\n",
       "    </tr>\n",
       "  </thead>\n",
       "  <tbody>\n",
       "    <tr>\n",
       "      <th>2001-01-01</th>\n",
       "      <td>399</td>\n",
       "      <td>285</td>\n",
       "    </tr>\n",
       "    <tr>\n",
       "      <th>2001-01-02</th>\n",
       "      <td>383</td>\n",
       "      <td>146</td>\n",
       "    </tr>\n",
       "    <tr>\n",
       "      <th>2001-01-03</th>\n",
       "      <td>343</td>\n",
       "      <td>162</td>\n",
       "    </tr>\n",
       "    <tr>\n",
       "      <th>2001-01-04</th>\n",
       "      <td>377</td>\n",
       "      <td>131</td>\n",
       "    </tr>\n",
       "    <tr>\n",
       "      <th>2001-01-05</th>\n",
       "      <td>415</td>\n",
       "      <td>159</td>\n",
       "    </tr>\n",
       "  </tbody>\n",
       "</table>\n",
       "</div>"
      ],
      "text/plain": [
       "            Arrest  Domestic\n",
       "2001-01-01     399       285\n",
       "2001-01-02     383       146\n",
       "2001-01-03     343       162\n",
       "2001-01-04     377       131\n",
       "2001-01-05     415       159"
      ]
     },
     "execution_count": 50,
     "metadata": {},
     "output_type": "execute_result"
    }
   ],
   "source": [
    "arrests_domestics.head()"
   ]
  },
  {
   "cell_type": "code",
   "execution_count": 51,
   "metadata": {},
   "outputs": [
    {
     "data": {
      "text/plain": [
       "(7301, 2)"
      ]
     },
     "execution_count": 51,
     "metadata": {},
     "output_type": "execute_result"
    }
   ],
   "source": [
    "arrests_domestics.shape"
   ]
  },
  {
   "cell_type": "markdown",
   "metadata": {},
   "source": [
    "#### Merge these two dataframes"
   ]
  },
  {
   "cell_type": "code",
   "execution_count": 63,
   "metadata": {},
   "outputs": [],
   "source": [
    "crimes_byday = grouped_crimes_byday.join(arrests_domestics)"
   ]
  },
  {
   "cell_type": "code",
   "execution_count": 65,
   "metadata": {},
   "outputs": [
    {
     "data": {
      "text/html": [
       "<div>\n",
       "<style scoped>\n",
       "    .dataframe tbody tr th:only-of-type {\n",
       "        vertical-align: middle;\n",
       "    }\n",
       "\n",
       "    .dataframe tbody tr th {\n",
       "        vertical-align: top;\n",
       "    }\n",
       "\n",
       "    .dataframe thead th {\n",
       "        text-align: right;\n",
       "    }\n",
       "</style>\n",
       "<table border=\"1\" class=\"dataframe\">\n",
       "  <thead>\n",
       "    <tr style=\"text-align: right;\">\n",
       "      <th></th>\n",
       "      <th>Drugs</th>\n",
       "      <th>Other</th>\n",
       "      <th>Property</th>\n",
       "      <th>Public Order / Vice</th>\n",
       "      <th>Violent</th>\n",
       "      <th>White Collar</th>\n",
       "      <th>Total Crimes</th>\n",
       "      <th>Arrest</th>\n",
       "      <th>Domestic</th>\n",
       "    </tr>\n",
       "    <tr>\n",
       "      <th>Date</th>\n",
       "      <th></th>\n",
       "      <th></th>\n",
       "      <th></th>\n",
       "      <th></th>\n",
       "      <th></th>\n",
       "      <th></th>\n",
       "      <th></th>\n",
       "      <th></th>\n",
       "      <th></th>\n",
       "    </tr>\n",
       "  </thead>\n",
       "  <tbody>\n",
       "    <tr>\n",
       "      <th>2001-01-01</th>\n",
       "      <td>97</td>\n",
       "      <td>580</td>\n",
       "      <td>429</td>\n",
       "      <td>48</td>\n",
       "      <td>574</td>\n",
       "      <td>92</td>\n",
       "      <td>1820</td>\n",
       "      <td>399</td>\n",
       "      <td>285</td>\n",
       "    </tr>\n",
       "    <tr>\n",
       "      <th>2001-01-02</th>\n",
       "      <td>175</td>\n",
       "      <td>322</td>\n",
       "      <td>321</td>\n",
       "      <td>26</td>\n",
       "      <td>221</td>\n",
       "      <td>78</td>\n",
       "      <td>1143</td>\n",
       "      <td>383</td>\n",
       "      <td>146</td>\n",
       "    </tr>\n",
       "    <tr>\n",
       "      <th>2001-01-03</th>\n",
       "      <td>133</td>\n",
       "      <td>322</td>\n",
       "      <td>351</td>\n",
       "      <td>32</td>\n",
       "      <td>264</td>\n",
       "      <td>49</td>\n",
       "      <td>1151</td>\n",
       "      <td>343</td>\n",
       "      <td>162</td>\n",
       "    </tr>\n",
       "    <tr>\n",
       "      <th>2001-01-04</th>\n",
       "      <td>142</td>\n",
       "      <td>339</td>\n",
       "      <td>359</td>\n",
       "      <td>40</td>\n",
       "      <td>244</td>\n",
       "      <td>42</td>\n",
       "      <td>1166</td>\n",
       "      <td>377</td>\n",
       "      <td>131</td>\n",
       "    </tr>\n",
       "    <tr>\n",
       "      <th>2001-01-05</th>\n",
       "      <td>185</td>\n",
       "      <td>355</td>\n",
       "      <td>367</td>\n",
       "      <td>37</td>\n",
       "      <td>270</td>\n",
       "      <td>53</td>\n",
       "      <td>1267</td>\n",
       "      <td>415</td>\n",
       "      <td>159</td>\n",
       "    </tr>\n",
       "  </tbody>\n",
       "</table>\n",
       "</div>"
      ],
      "text/plain": [
       "            Drugs  Other  Property  Public Order / Vice  Violent  \\\n",
       "Date                                                               \n",
       "2001-01-01     97    580       429                   48      574   \n",
       "2001-01-02    175    322       321                   26      221   \n",
       "2001-01-03    133    322       351                   32      264   \n",
       "2001-01-04    142    339       359                   40      244   \n",
       "2001-01-05    185    355       367                   37      270   \n",
       "\n",
       "            White Collar  Total Crimes  Arrest  Domestic  \n",
       "Date                                                      \n",
       "2001-01-01            92          1820     399       285  \n",
       "2001-01-02            78          1143     383       146  \n",
       "2001-01-03            49          1151     343       162  \n",
       "2001-01-04            42          1166     377       131  \n",
       "2001-01-05            53          1267     415       159  "
      ]
     },
     "execution_count": 65,
     "metadata": {},
     "output_type": "execute_result"
    }
   ],
   "source": [
    "crimes_byday.head()"
   ]
  },
  {
   "cell_type": "markdown",
   "metadata": {},
   "source": [
    "#### Convert index back to datetime and set frequency"
   ]
  },
  {
   "cell_type": "code",
   "execution_count": 66,
   "metadata": {},
   "outputs": [],
   "source": [
    "crimes_byday.index = pd.to_datetime(grouped_crimes_byday.index)"
   ]
  },
  {
   "cell_type": "code",
   "execution_count": 67,
   "metadata": {},
   "outputs": [],
   "source": [
    "crimes_byday.index.freq = 'd'"
   ]
  },
  {
   "cell_type": "code",
   "execution_count": 68,
   "metadata": {},
   "outputs": [
    {
     "name": "stdout",
     "output_type": "stream",
     "text": [
      "<class 'pandas.core.frame.DataFrame'>\n",
      "DatetimeIndex: 7301 entries, 2001-01-01 to 2020-12-27\n",
      "Freq: D\n",
      "Data columns (total 9 columns):\n",
      " #   Column               Non-Null Count  Dtype\n",
      "---  ------               --------------  -----\n",
      " 0   Drugs                7301 non-null   int64\n",
      " 1   Other                7301 non-null   int64\n",
      " 2   Property             7301 non-null   int64\n",
      " 3   Public Order / Vice  7301 non-null   int64\n",
      " 4   Violent              7301 non-null   int64\n",
      " 5   White Collar         7301 non-null   int64\n",
      " 6   Total Crimes         7301 non-null   int64\n",
      " 7   Arrest               7301 non-null   int64\n",
      " 8   Domestic             7301 non-null   int64\n",
      "dtypes: int64(9)\n",
      "memory usage: 570.4 KB\n"
     ]
    }
   ],
   "source": [
    "crimes_byday.info()"
   ]
  },
  {
   "cell_type": "code",
   "execution_count": 70,
   "metadata": {},
   "outputs": [],
   "source": [
    "# Reorder columns\n",
    "crimes_byday = crimes_byday[['Total Crimes', 'Arrest', 'Domestic', 'Violent', 'Property', 'Public Order / Vice',\\\n",
    "                               'Drugs', 'White Collar','Other']]"
   ]
  },
  {
   "cell_type": "code",
   "execution_count": 74,
   "metadata": {},
   "outputs": [
    {
     "data": {
      "text/plain": [
       "Index(['Total Crimes', 'Arrest', 'Domestic', 'Violent', 'Property',\n",
       "       'Public Order / Vice', 'Drugs', 'White Collar', 'Other'],\n",
       "      dtype='object')"
      ]
     },
     "execution_count": 74,
     "metadata": {},
     "output_type": "execute_result"
    }
   ],
   "source": [
    "crimes_byday.columns"
   ]
  },
  {
   "cell_type": "markdown",
   "metadata": {},
   "source": [
    "### Save Data"
   ]
  },
  {
   "cell_type": "code",
   "execution_count": 75,
   "metadata": {},
   "outputs": [],
   "source": [
    "crimes_byday.to_csv('../Data/crimes_byday.csv')"
   ]
  },
  {
   "cell_type": "code",
   "execution_count": null,
   "metadata": {},
   "outputs": [],
   "source": []
  }
 ],
 "metadata": {
  "kernelspec": {
   "display_name": "Python [conda env:TestEnv] *",
   "language": "python",
   "name": "conda-env-TestEnv-py"
  },
  "language_info": {
   "codemirror_mode": {
    "name": "ipython",
    "version": 3
   },
   "file_extension": ".py",
   "mimetype": "text/x-python",
   "name": "python",
   "nbconvert_exporter": "python",
   "pygments_lexer": "ipython3",
   "version": "3.8.2"
  }
 },
 "nbformat": 4,
 "nbformat_minor": 4
}
